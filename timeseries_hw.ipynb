{
  "nbformat": 4,
  "nbformat_minor": 0,
  "metadata": {
    "colab": {
      "provenance": []
    },
    "kernelspec": {
      "display_name": "Python 3",
      "language": "python",
      "name": "python3"
    },
    "language_info": {
      "codemirror_mode": {
        "name": "ipython",
        "version": 3
      },
      "file_extension": ".py",
      "mimetype": "text/x-python",
      "name": "python",
      "nbconvert_exporter": "python",
      "pygments_lexer": "ipython3",
      "version": "3.7.4"
    }
  },
  "cells": [
    {
      "cell_type": "markdown",
      "metadata": {
        "id": "sdwwxjAQFXfw"
      },
      "source": [
        "<center><img src=\"https://github.com/hse-ds/iad-applied-ds/blob/master/2021/hw/hw1/img/logo_hse.png?raw=1\" width=\"1000\"></center>\n",
        "\n",
        "<h1><center>Прикладные задачи анализа данных</center></h1>\n",
        "<h2><center>Домашнее задание 4: Прогнозирование временных рядов</center></h2>"
      ]
    },
    {
      "cell_type": "markdown",
      "metadata": {
        "id": "7YFkvK6vFXf9"
      },
      "source": [
        "# Введение\n",
        "\n",
        "В этом задании Вам предстоит разобраться с основами анализа и прогнозирования временных рядов. \n",
        "\n",
        "\n",
        "![image](https://imgs.xkcd.com/comics/extrapolating.png)"
      ]
    },
    {
      "cell_type": "code",
      "metadata": {
        "id": "DPQ9427wjLeX",
        "colab": {
          "base_uri": "https://localhost:8080/",
          "height": 1000
        },
        "outputId": "4aec1009-17e1-4b5a-a15a-9e325e30f2f9"
      },
      "source": [
        "!pip install orbit-ml\n",
        "!pip install prophet\n",
        "!pip install sktime[all_extras]\n",
        "!pip install matplotlib==3.1.3"
      ],
      "execution_count": 1,
      "outputs": [
        {
          "output_type": "stream",
          "name": "stdout",
          "text": [
            "Looking in indexes: https://pypi.org/simple, https://us-python.pkg.dev/colab-wheels/public/simple/\n",
            "Collecting orbit-ml\n",
            "  Downloading orbit_ml-1.1.3-py3-none-any.whl (476 kB)\n",
            "\u001b[2K     \u001b[90m━━━━━━━━━━━━━━━━━━━━━━━━━━━━━━━━━━━━━━━\u001b[0m \u001b[32m476.1/476.1 KB\u001b[0m \u001b[31m7.8 MB/s\u001b[0m eta \u001b[36m0:00:00\u001b[0m\n",
            "\u001b[?25hRequirement already satisfied: arviz in /usr/local/lib/python3.8/dist-packages (from orbit-ml) (0.12.1)\n",
            "Requirement already satisfied: pandas>=1.0.3 in /usr/local/lib/python3.8/dist-packages (from orbit-ml) (1.3.5)\n",
            "Requirement already satisfied: numpy<=1.22.2,>=1.18.2 in /usr/local/lib/python3.8/dist-packages (from orbit-ml) (1.21.6)\n",
            "Requirement already satisfied: tqdm in /usr/local/lib/python3.8/dist-packages (from orbit-ml) (4.64.1)\n",
            "Collecting pystan==2.19.1.1\n",
            "  Downloading pystan-2.19.1.1-cp38-cp38-manylinux1_x86_64.whl (62.6 MB)\n",
            "\u001b[2K     \u001b[90m━━━━━━━━━━━━━━━━━━━━━━━━━━━━━━━━━━━━━━━━\u001b[0m \u001b[32m62.6/62.6 MB\u001b[0m \u001b[31m10.6 MB/s\u001b[0m eta \u001b[36m0:00:00\u001b[0m\n",
            "\u001b[?25hRequirement already satisfied: statsmodels>=0.11.1 in /usr/local/lib/python3.8/dist-packages (from orbit-ml) (0.12.2)\n",
            "Requirement already satisfied: scipy>=1.4.1 in /usr/local/lib/python3.8/dist-packages (from orbit-ml) (1.7.3)\n",
            "Collecting matplotlib>=3.3.2\n",
            "  Downloading matplotlib-3.6.3-cp38-cp38-manylinux_2_12_x86_64.manylinux2010_x86_64.whl (9.4 MB)\n",
            "\u001b[2K     \u001b[90m━━━━━━━━━━━━━━━━━━━━━━━━━━━━━━━━━━━━━━━━\u001b[0m \u001b[32m9.4/9.4 MB\u001b[0m \u001b[31m19.6 MB/s\u001b[0m eta \u001b[36m0:00:00\u001b[0m\n",
            "\u001b[?25hRequirement already satisfied: torch>=1.11.0 in /usr/local/lib/python3.8/dist-packages (from orbit-ml) (1.13.0+cu116)\n",
            "Requirement already satisfied: seaborn>=0.10.0 in /usr/local/lib/python3.8/dist-packages (from orbit-ml) (0.11.2)\n",
            "Collecting pyro-ppl>=1.4.0\n",
            "  Downloading pyro_ppl-1.8.4-py3-none-any.whl (730 kB)\n",
            "\u001b[2K     \u001b[90m━━━━━━━━━━━━━━━━━━━━━━━━━━━━━━━━━━━━━━\u001b[0m \u001b[32m730.7/730.7 KB\u001b[0m \u001b[31m14.7 MB/s\u001b[0m eta \u001b[36m0:00:00\u001b[0m\n",
            "\u001b[?25hRequirement already satisfied: Cython!=0.25.1,>=0.22 in /usr/local/lib/python3.8/dist-packages (from pystan==2.19.1.1->orbit-ml) (0.29.32)\n",
            "Requirement already satisfied: kiwisolver>=1.0.1 in /usr/local/lib/python3.8/dist-packages (from matplotlib>=3.3.2->orbit-ml) (1.4.4)\n",
            "Collecting contourpy>=1.0.1\n",
            "  Downloading contourpy-1.0.7-cp38-cp38-manylinux_2_17_x86_64.manylinux2014_x86_64.whl (300 kB)\n",
            "\u001b[2K     \u001b[90m━━━━━━━━━━━━━━━━━━━━━━━━━━━━━━━━━━━━━━━\u001b[0m \u001b[32m300.0/300.0 KB\u001b[0m \u001b[31m4.7 MB/s\u001b[0m eta \u001b[36m0:00:00\u001b[0m\n",
            "\u001b[?25hRequirement already satisfied: cycler>=0.10 in /usr/local/lib/python3.8/dist-packages (from matplotlib>=3.3.2->orbit-ml) (0.11.0)\n",
            "Collecting fonttools>=4.22.0\n",
            "  Downloading fonttools-4.38.0-py3-none-any.whl (965 kB)\n",
            "\u001b[2K     \u001b[90m━━━━━━━━━━━━━━━━━━━━━━━━━━━━━━━━━━━━━━━\u001b[0m \u001b[32m965.4/965.4 KB\u001b[0m \u001b[31m5.3 MB/s\u001b[0m eta \u001b[36m0:00:00\u001b[0m\n",
            "\u001b[?25hRequirement already satisfied: pillow>=6.2.0 in /usr/local/lib/python3.8/dist-packages (from matplotlib>=3.3.2->orbit-ml) (7.1.2)\n",
            "Requirement already satisfied: python-dateutil>=2.7 in /usr/local/lib/python3.8/dist-packages (from matplotlib>=3.3.2->orbit-ml) (2.8.2)\n",
            "Requirement already satisfied: packaging>=20.0 in /usr/local/lib/python3.8/dist-packages (from matplotlib>=3.3.2->orbit-ml) (21.3)\n",
            "Requirement already satisfied: pyparsing>=2.2.1 in /usr/local/lib/python3.8/dist-packages (from matplotlib>=3.3.2->orbit-ml) (3.0.9)\n",
            "Requirement already satisfied: pytz>=2017.3 in /usr/local/lib/python3.8/dist-packages (from pandas>=1.0.3->orbit-ml) (2022.7)\n",
            "Collecting pyro-api>=0.1.1\n",
            "  Downloading pyro_api-0.1.2-py3-none-any.whl (11 kB)\n",
            "Requirement already satisfied: opt-einsum>=2.3.2 in /usr/local/lib/python3.8/dist-packages (from pyro-ppl>=1.4.0->orbit-ml) (3.3.0)\n",
            "Requirement already satisfied: patsy>=0.5 in /usr/local/lib/python3.8/dist-packages (from statsmodels>=0.11.1->orbit-ml) (0.5.3)\n",
            "Requirement already satisfied: typing-extensions in /usr/local/lib/python3.8/dist-packages (from torch>=1.11.0->orbit-ml) (4.4.0)\n",
            "Requirement already satisfied: xarray-einstats>=0.2 in /usr/local/lib/python3.8/dist-packages (from arviz->orbit-ml) (0.4.0)\n",
            "Requirement already satisfied: setuptools>=38.4 in /usr/local/lib/python3.8/dist-packages (from arviz->orbit-ml) (57.4.0)\n",
            "Requirement already satisfied: netcdf4 in /usr/local/lib/python3.8/dist-packages (from arviz->orbit-ml) (1.6.2)\n",
            "Requirement already satisfied: xarray>=0.16.1 in /usr/local/lib/python3.8/dist-packages (from arviz->orbit-ml) (2022.12.0)\n",
            "Requirement already satisfied: six in /usr/local/lib/python3.8/dist-packages (from patsy>=0.5->statsmodels>=0.11.1->orbit-ml) (1.15.0)\n",
            "Requirement already satisfied: cftime in /usr/local/lib/python3.8/dist-packages (from netcdf4->arviz->orbit-ml) (1.6.2)\n",
            "Installing collected packages: pyro-api, pystan, fonttools, contourpy, pyro-ppl, matplotlib, orbit-ml\n",
            "  Attempting uninstall: pystan\n",
            "    Found existing installation: pystan 3.3.0\n",
            "    Uninstalling pystan-3.3.0:\n",
            "      Successfully uninstalled pystan-3.3.0\n",
            "  Attempting uninstall: matplotlib\n",
            "    Found existing installation: matplotlib 3.2.2\n",
            "    Uninstalling matplotlib-3.2.2:\n",
            "      Successfully uninstalled matplotlib-3.2.2\n",
            "Successfully installed contourpy-1.0.7 fonttools-4.38.0 matplotlib-3.6.3 orbit-ml-1.1.3 pyro-api-0.1.2 pyro-ppl-1.8.4 pystan-2.19.1.1\n"
          ]
        },
        {
          "output_type": "display_data",
          "data": {
            "application/vnd.colab-display-data+json": {
              "pip_warning": {
                "packages": [
                  "matplotlib",
                  "mpl_toolkits"
                ]
              }
            }
          },
          "metadata": {}
        },
        {
          "output_type": "stream",
          "name": "stdout",
          "text": [
            "Looking in indexes: https://pypi.org/simple, https://us-python.pkg.dev/colab-wheels/public/simple/\n",
            "Requirement already satisfied: prophet in /usr/local/lib/python3.8/dist-packages (1.1.1)\n",
            "Requirement already satisfied: setuptools-git>=1.2 in /usr/local/lib/python3.8/dist-packages (from prophet) (1.2)\n",
            "Requirement already satisfied: matplotlib>=2.0.0 in /usr/local/lib/python3.8/dist-packages (from prophet) (3.6.3)\n",
            "Requirement already satisfied: wheel>=0.37.0 in /usr/local/lib/python3.8/dist-packages (from prophet) (0.38.4)\n",
            "Requirement already satisfied: tqdm>=4.36.1 in /usr/local/lib/python3.8/dist-packages (from prophet) (4.64.1)\n",
            "Requirement already satisfied: python-dateutil>=2.8.0 in /usr/local/lib/python3.8/dist-packages (from prophet) (2.8.2)\n",
            "Requirement already satisfied: convertdate>=2.1.2 in /usr/local/lib/python3.8/dist-packages (from prophet) (2.4.0)\n",
            "Requirement already satisfied: holidays>=0.14.2 in /usr/local/lib/python3.8/dist-packages (from prophet) (0.18)\n",
            "Requirement already satisfied: LunarCalendar>=0.0.9 in /usr/local/lib/python3.8/dist-packages (from prophet) (0.0.9)\n",
            "Requirement already satisfied: cmdstanpy>=1.0.4 in /usr/local/lib/python3.8/dist-packages (from prophet) (1.0.8)\n",
            "Requirement already satisfied: setuptools>=42 in /usr/local/lib/python3.8/dist-packages (from prophet) (57.4.0)\n",
            "Requirement already satisfied: numpy>=1.15.4 in /usr/local/lib/python3.8/dist-packages (from prophet) (1.21.6)\n",
            "Requirement already satisfied: pandas>=1.0.4 in /usr/local/lib/python3.8/dist-packages (from prophet) (1.3.5)\n",
            "Requirement already satisfied: pymeeus<=1,>=0.3.13 in /usr/local/lib/python3.8/dist-packages (from convertdate>=2.1.2->prophet) (0.5.12)\n",
            "Requirement already satisfied: korean-lunar-calendar in /usr/local/lib/python3.8/dist-packages (from holidays>=0.14.2->prophet) (0.3.1)\n",
            "Requirement already satisfied: hijri-converter in /usr/local/lib/python3.8/dist-packages (from holidays>=0.14.2->prophet) (2.2.4)\n",
            "Requirement already satisfied: pytz in /usr/local/lib/python3.8/dist-packages (from LunarCalendar>=0.0.9->prophet) (2022.7)\n",
            "Requirement already satisfied: ephem>=3.7.5.3 in /usr/local/lib/python3.8/dist-packages (from LunarCalendar>=0.0.9->prophet) (4.1.4)\n",
            "Requirement already satisfied: pyparsing>=2.2.1 in /usr/local/lib/python3.8/dist-packages (from matplotlib>=2.0.0->prophet) (3.0.9)\n",
            "Requirement already satisfied: kiwisolver>=1.0.1 in /usr/local/lib/python3.8/dist-packages (from matplotlib>=2.0.0->prophet) (1.4.4)\n",
            "Requirement already satisfied: contourpy>=1.0.1 in /usr/local/lib/python3.8/dist-packages (from matplotlib>=2.0.0->prophet) (1.0.7)\n",
            "Requirement already satisfied: packaging>=20.0 in /usr/local/lib/python3.8/dist-packages (from matplotlib>=2.0.0->prophet) (21.3)\n",
            "Requirement already satisfied: pillow>=6.2.0 in /usr/local/lib/python3.8/dist-packages (from matplotlib>=2.0.0->prophet) (7.1.2)\n",
            "Requirement already satisfied: fonttools>=4.22.0 in /usr/local/lib/python3.8/dist-packages (from matplotlib>=2.0.0->prophet) (4.38.0)\n",
            "Requirement already satisfied: cycler>=0.10 in /usr/local/lib/python3.8/dist-packages (from matplotlib>=2.0.0->prophet) (0.11.0)\n",
            "Requirement already satisfied: six>=1.5 in /usr/local/lib/python3.8/dist-packages (from python-dateutil>=2.8.0->prophet) (1.15.0)\n",
            "Looking in indexes: https://pypi.org/simple, https://us-python.pkg.dev/colab-wheels/public/simple/\n",
            "Collecting sktime[all_extras]\n",
            "  Downloading sktime-0.15.1-py3-none-any.whl (16.0 MB)\n",
            "\u001b[2K     \u001b[90m━━━━━━━━━━━━━━━━━━━━━━━━━━━━━━━━━━━━━━━━\u001b[0m \u001b[32m16.0/16.0 MB\u001b[0m \u001b[31m57.8 MB/s\u001b[0m eta \u001b[36m0:00:00\u001b[0m\n",
            "\u001b[?25hRequirement already satisfied: scipy<2.0.0,>=1.2.0 in /usr/local/lib/python3.8/dist-packages (from sktime[all_extras]) (1.7.3)\n",
            "Requirement already satisfied: scikit-learn<1.3.0,>=0.24.0 in /usr/local/lib/python3.8/dist-packages (from sktime[all_extras]) (1.0.2)\n",
            "Requirement already satisfied: statsmodels>=0.12.1 in /usr/local/lib/python3.8/dist-packages (from sktime[all_extras]) (0.12.2)\n",
            "Requirement already satisfied: numba>=0.55 in /usr/local/lib/python3.8/dist-packages (from sktime[all_extras]) (0.56.4)\n",
            "Collecting deprecated>=1.2.13\n",
            "  Downloading Deprecated-1.2.13-py2.py3-none-any.whl (9.6 kB)\n",
            "Requirement already satisfied: numpy<1.25,>=1.21.0 in /usr/local/lib/python3.8/dist-packages (from sktime[all_extras]) (1.21.6)\n",
            "Requirement already satisfied: pandas<1.6.0,>=1.1.0 in /usr/local/lib/python3.8/dist-packages (from sktime[all_extras]) (1.3.5)\n",
            "Requirement already satisfied: seaborn>=0.11.0 in /usr/local/lib/python3.8/dist-packages (from sktime[all_extras]) (0.11.2)\n",
            "Requirement already satisfied: matplotlib>=3.3.2 in /usr/local/lib/python3.8/dist-packages (from sktime[all_extras]) (3.6.3)\n",
            "Collecting mne\n",
            "  Downloading mne-1.3.0-py3-none-any.whl (7.6 MB)\n",
            "\u001b[2K     \u001b[90m━━━━━━━━━━━━━━━━━━━━━━━━━━━━━━━━━━━━━━━━\u001b[0m \u001b[32m7.6/7.6 MB\u001b[0m \u001b[31m67.2 MB/s\u001b[0m eta \u001b[36m0:00:00\u001b[0m\n",
            "\u001b[?25hCollecting keras-self-attention\n",
            "  Downloading keras-self-attention-0.51.0.tar.gz (11 kB)\n",
            "  Preparing metadata (setup.py) ... \u001b[?25l\u001b[?25hdone\n",
            "Collecting tbats>=1.1.0\n",
            "  Downloading tbats-1.1.2-py3-none-any.whl (43 kB)\n",
            "\u001b[2K     \u001b[90m━━━━━━━━━━━━━━━━━━━━━━━━━━━━━━━━━━━━━━━━\u001b[0m \u001b[32m43.8/43.8 KB\u001b[0m \u001b[31m4.8 MB/s\u001b[0m eta \u001b[36m0:00:00\u001b[0m\n",
            "\u001b[?25hRequirement already satisfied: xarray in /usr/local/lib/python3.8/dist-packages (from sktime[all_extras]) (2022.12.0)\n",
            "Collecting tsfresh>=0.17.0\n",
            "  Downloading tsfresh-0.20.0-py2.py3-none-any.whl (98 kB)\n",
            "\u001b[2K     \u001b[90m━━━━━━━━━━━━━━━━━━━━━━━━━━━━━━━━━━━━━━━━\u001b[0m \u001b[32m98.2/98.2 KB\u001b[0m \u001b[31m11.0 MB/s\u001b[0m eta \u001b[36m0:00:00\u001b[0m\n",
            "\u001b[?25hRequirement already satisfied: h5py in /usr/local/lib/python3.8/dist-packages (from sktime[all_extras]) (3.1.0)\n",
            "Collecting tslearn>=0.5.2\n",
            "  Downloading tslearn-0.5.2-cp38-cp38-manylinux_2_5_x86_64.manylinux1_x86_64.manylinux_2_12_x86_64.manylinux2010_x86_64.whl (875 kB)\n",
            "\u001b[2K     \u001b[90m━━━━━━━━━━━━━━━━━━━━━━━━━━━━━━━━━━━━━━\u001b[0m \u001b[32m875.8/875.8 KB\u001b[0m \u001b[31m50.4 MB/s\u001b[0m eta \u001b[36m0:00:00\u001b[0m\n",
            "\u001b[?25hRequirement already satisfied: cloudpickle in /usr/local/lib/python3.8/dist-packages (from sktime[all_extras]) (2.2.0)\n",
            "Collecting filterpy>=1.4.5\n",
            "  Downloading filterpy-1.4.5.zip (177 kB)\n",
            "\u001b[2K     \u001b[90m━━━━━━━━━━━━━━━━━━━━━━━━━━━━━━━━━━━━━━\u001b[0m \u001b[32m178.0/178.0 KB\u001b[0m \u001b[31m19.3 MB/s\u001b[0m eta \u001b[36m0:00:00\u001b[0m\n",
            "\u001b[?25h  Preparing metadata (setup.py) ... \u001b[?25l\u001b[?25hdone\n",
            "Requirement already satisfied: tensorflow-probability in /usr/local/lib/python3.8/dist-packages (from sktime[all_extras]) (0.17.0)\n",
            "Collecting scikit-posthocs>=0.6.5\n",
            "  Downloading scikit_posthocs-0.7.0-py3-none-any.whl (38 kB)\n",
            "Requirement already satisfied: tensorflow in /usr/local/lib/python3.8/dist-packages (from sktime[all_extras]) (2.9.2)\n",
            "Requirement already satisfied: dask in /usr/local/lib/python3.8/dist-packages (from sktime[all_extras]) (2022.2.1)\n",
            "Collecting pmdarima!=1.8.1,<3.0.0,>=1.8.0\n",
            "  Downloading pmdarima-2.0.2-cp38-cp38-manylinux_2_17_x86_64.manylinux2014_x86_64.manylinux_2_28_x86_64.whl (1.9 MB)\n",
            "\u001b[2K     \u001b[90m━━━━━━━━━━━━━━━━━━━━━━━━━━━━━━━━━━━━━━━━\u001b[0m \u001b[32m1.9/1.9 MB\u001b[0m \u001b[31m58.4 MB/s\u001b[0m eta \u001b[36m0:00:00\u001b[0m\n",
            "\u001b[?25hCollecting statsforecast>=0.5.2\n",
            "  Downloading statsforecast-1.4.0-py3-none-any.whl (91 kB)\n",
            "\u001b[2K     \u001b[90m━━━━━━━━━━━━━━━━━━━━━━━━━━━━━━━━━━━━━━━━\u001b[0m \u001b[32m92.0/92.0 KB\u001b[0m \u001b[31m10.2 MB/s\u001b[0m eta \u001b[36m0:00:00\u001b[0m\n",
            "\u001b[?25hCollecting esig==0.9.7\n",
            "  Downloading esig-0.9.7-cp38-cp38-manylinux2010_x86_64.whl (6.9 MB)\n",
            "\u001b[2K     \u001b[90m━━━━━━━━━━━━━━━━━━━━━━━━━━━━━━━━━━━━━━━━\u001b[0m \u001b[32m6.9/6.9 MB\u001b[0m \u001b[31m59.4 MB/s\u001b[0m eta \u001b[36m0:00:00\u001b[0m\n",
            "\u001b[?25hCollecting stumpy>=1.5.1\n",
            "  Downloading stumpy-1.11.1-py3-none-any.whl (136 kB)\n",
            "\u001b[2K     \u001b[90m━━━━━━━━━━━━━━━━━━━━━━━━━━━━━━━━━━━━━━\u001b[0m \u001b[32m136.2/136.2 KB\u001b[0m \u001b[31m15.7 MB/s\u001b[0m eta \u001b[36m0:00:00\u001b[0m\n",
            "\u001b[?25hCollecting dtw-python\n",
            "  Downloading dtw_python-1.3.0-cp38-cp38-manylinux_2_17_x86_64.manylinux2014_x86_64.whl (661 kB)\n",
            "\u001b[2K     \u001b[90m━━━━━━━━━━━━━━━━━━━━━━━━━━━━━━━━━━━━━━\u001b[0m \u001b[32m661.4/661.4 KB\u001b[0m \u001b[31m29.1 MB/s\u001b[0m eta \u001b[36m0:00:00\u001b[0m\n",
            "\u001b[?25hCollecting pykalman>=0.9.5\n",
            "  Downloading pykalman-0.9.5.tar.gz (228 kB)\n",
            "\u001b[2K     \u001b[90m━━━━━━━━━━━━━━━━━━━━━━━━━━━━━━━━━━━━━━\u001b[0m \u001b[32m228.9/228.9 KB\u001b[0m \u001b[31m22.5 MB/s\u001b[0m eta \u001b[36m0:00:00\u001b[0m\n",
            "\u001b[?25h  Preparing metadata (setup.py) ... \u001b[?25l\u001b[?25hdone\n",
            "Collecting pyod>=0.8.0\n",
            "  Downloading pyod-1.0.7.tar.gz (147 kB)\n",
            "\u001b[2K     \u001b[90m━━━━━━━━━━━━━━━━━━━━━━━━━━━━━━━━━━━━━━\u001b[0m \u001b[32m147.7/147.7 KB\u001b[0m \u001b[31m14.4 MB/s\u001b[0m eta \u001b[36m0:00:00\u001b[0m\n",
            "\u001b[?25h  Preparing metadata (setup.py) ... \u001b[?25l\u001b[?25hdone\n",
            "Collecting gluonts>=0.9.0\n",
            "  Downloading gluonts-0.11.7-py3-none-any.whl (1.0 MB)\n",
            "\u001b[2K     \u001b[90m━━━━━━━━━━━━━━━━━━━━━━━━━━━━━━━━━━━━━━━━\u001b[0m \u001b[32m1.0/1.0 MB\u001b[0m \u001b[31m50.0 MB/s\u001b[0m eta \u001b[36m0:00:00\u001b[0m\n",
            "\u001b[?25hCollecting hmmlearn>=0.2.7\n",
            "  Downloading hmmlearn-0.2.8-cp38-cp38-manylinux_2_5_x86_64.manylinux1_x86_64.whl (217 kB)\n",
            "\u001b[2K     \u001b[90m━━━━━━━━━━━━━━━━━━━━━━━━━━━━━━━━━━━━━━\u001b[0m \u001b[32m217.1/217.1 KB\u001b[0m \u001b[31m22.6 MB/s\u001b[0m eta \u001b[36m0:00:00\u001b[0m\n",
            "\u001b[?25hRequirement already satisfied: prophet>=1.1 in /usr/local/lib/python3.8/dist-packages (from sktime[all_extras]) (1.1.1)\n",
            "Requirement already satisfied: wrapt<2,>=1.10 in /usr/local/lib/python3.8/dist-packages (from deprecated>=1.2.13->sktime[all_extras]) (1.14.1)\n",
            "Requirement already satisfied: typing-extensions~=4.0 in /usr/local/lib/python3.8/dist-packages (from gluonts>=0.9.0->sktime[all_extras]) (4.4.0)\n",
            "Requirement already satisfied: tqdm~=4.23 in /usr/local/lib/python3.8/dist-packages (from gluonts>=0.9.0->sktime[all_extras]) (4.64.1)\n",
            "Requirement already satisfied: toolz~=0.10 in /usr/local/lib/python3.8/dist-packages (from gluonts>=0.9.0->sktime[all_extras]) (0.12.0)\n",
            "Requirement already satisfied: pydantic~=1.7 in /usr/local/lib/python3.8/dist-packages (from gluonts>=0.9.0->sktime[all_extras]) (1.10.4)\n",
            "Requirement already satisfied: pillow>=6.2.0 in /usr/local/lib/python3.8/dist-packages (from matplotlib>=3.3.2->sktime[all_extras]) (7.1.2)\n",
            "Requirement already satisfied: cycler>=0.10 in /usr/local/lib/python3.8/dist-packages (from matplotlib>=3.3.2->sktime[all_extras]) (0.11.0)\n",
            "Requirement already satisfied: kiwisolver>=1.0.1 in /usr/local/lib/python3.8/dist-packages (from matplotlib>=3.3.2->sktime[all_extras]) (1.4.4)\n",
            "Requirement already satisfied: contourpy>=1.0.1 in /usr/local/lib/python3.8/dist-packages (from matplotlib>=3.3.2->sktime[all_extras]) (1.0.7)\n",
            "Requirement already satisfied: packaging>=20.0 in /usr/local/lib/python3.8/dist-packages (from matplotlib>=3.3.2->sktime[all_extras]) (21.3)\n",
            "Requirement already satisfied: fonttools>=4.22.0 in /usr/local/lib/python3.8/dist-packages (from matplotlib>=3.3.2->sktime[all_extras]) (4.38.0)\n",
            "Requirement already satisfied: pyparsing>=2.2.1 in /usr/local/lib/python3.8/dist-packages (from matplotlib>=3.3.2->sktime[all_extras]) (3.0.9)\n",
            "Requirement already satisfied: python-dateutil>=2.7 in /usr/local/lib/python3.8/dist-packages (from matplotlib>=3.3.2->sktime[all_extras]) (2.8.2)\n",
            "Requirement already satisfied: llvmlite<0.40,>=0.39.0dev0 in /usr/local/lib/python3.8/dist-packages (from numba>=0.55->sktime[all_extras]) (0.39.1)\n",
            "Requirement already satisfied: importlib-metadata in /usr/local/lib/python3.8/dist-packages (from numba>=0.55->sktime[all_extras]) (6.0.0)\n",
            "Requirement already satisfied: setuptools in /usr/local/lib/python3.8/dist-packages (from numba>=0.55->sktime[all_extras]) (57.4.0)\n",
            "Requirement already satisfied: pytz>=2017.3 in /usr/local/lib/python3.8/dist-packages (from pandas<1.6.0,>=1.1.0->sktime[all_extras]) (2022.7)\n",
            "Collecting statsmodels>=0.12.1\n",
            "  Downloading statsmodels-0.13.5-cp38-cp38-manylinux_2_17_x86_64.manylinux2014_x86_64.whl (9.9 MB)\n",
            "\u001b[2K     \u001b[90m━━━━━━━━━━━━━━━━━━━━━━━━━━━━━━━━━━━━━━━━\u001b[0m \u001b[32m9.9/9.9 MB\u001b[0m \u001b[31m83.9 MB/s\u001b[0m eta \u001b[36m0:00:00\u001b[0m\n",
            "\u001b[?25hRequirement already satisfied: Cython!=0.29.18,!=0.29.31,>=0.29 in /usr/local/lib/python3.8/dist-packages (from pmdarima!=1.8.1,<3.0.0,>=1.8.0->sktime[all_extras]) (0.29.32)\n",
            "Requirement already satisfied: urllib3 in /usr/local/lib/python3.8/dist-packages (from pmdarima!=1.8.1,<3.0.0,>=1.8.0->sktime[all_extras]) (1.24.3)\n",
            "Requirement already satisfied: joblib>=0.11 in /usr/local/lib/python3.8/dist-packages (from pmdarima!=1.8.1,<3.0.0,>=1.8.0->sktime[all_extras]) (1.2.0)\n",
            "Requirement already satisfied: holidays>=0.14.2 in /usr/local/lib/python3.8/dist-packages (from prophet>=1.1->sktime[all_extras]) (0.18)\n",
            "Requirement already satisfied: cmdstanpy>=1.0.4 in /usr/local/lib/python3.8/dist-packages (from prophet>=1.1->sktime[all_extras]) (1.0.8)\n",
            "Requirement already satisfied: convertdate>=2.1.2 in /usr/local/lib/python3.8/dist-packages (from prophet>=1.1->sktime[all_extras]) (2.4.0)\n",
            "Requirement already satisfied: LunarCalendar>=0.0.9 in /usr/local/lib/python3.8/dist-packages (from prophet>=1.1->sktime[all_extras]) (0.0.9)\n",
            "Requirement already satisfied: setuptools-git>=1.2 in /usr/local/lib/python3.8/dist-packages (from prophet>=1.1->sktime[all_extras]) (1.2)\n",
            "Requirement already satisfied: wheel>=0.37.0 in /usr/local/lib/python3.8/dist-packages (from prophet>=1.1->sktime[all_extras]) (0.38.4)\n",
            "Requirement already satisfied: six in /usr/local/lib/python3.8/dist-packages (from pyod>=0.8.0->sktime[all_extras]) (1.15.0)\n",
            "Requirement already satisfied: threadpoolctl>=2.0.0 in /usr/local/lib/python3.8/dist-packages (from scikit-learn<1.3.0,>=0.24.0->sktime[all_extras]) (3.1.0)\n",
            "Requirement already satisfied: plotly in /usr/local/lib/python3.8/dist-packages (from statsforecast>=0.5.2->sktime[all_extras]) (5.5.0)\n",
            "Requirement already satisfied: patsy>=0.5.2 in /usr/local/lib/python3.8/dist-packages (from statsmodels>=0.12.1->sktime[all_extras]) (0.5.3)\n",
            "Requirement already satisfied: distributed>=2.11.0 in /usr/local/lib/python3.8/dist-packages (from tsfresh>=0.17.0->sktime[all_extras]) (2022.2.1)\n",
            "Requirement already satisfied: requests>=2.9.1 in /usr/local/lib/python3.8/dist-packages (from tsfresh>=0.17.0->sktime[all_extras]) (2.25.1)\n",
            "Requirement already satisfied: fsspec>=0.6.0 in /usr/local/lib/python3.8/dist-packages (from dask->sktime[all_extras]) (2022.11.0)\n",
            "Requirement already satisfied: partd>=0.3.10 in /usr/local/lib/python3.8/dist-packages (from dask->sktime[all_extras]) (1.3.0)\n",
            "Requirement already satisfied: pyyaml>=5.3.1 in /usr/local/lib/python3.8/dist-packages (from dask->sktime[all_extras]) (6.0)\n",
            "Requirement already satisfied: decorator in /usr/local/lib/python3.8/dist-packages (from mne->sktime[all_extras]) (4.4.2)\n",
            "Requirement already satisfied: pooch>=1.5 in /usr/local/lib/python3.8/dist-packages (from mne->sktime[all_extras]) (1.6.0)\n",
            "Requirement already satisfied: jinja2 in /usr/local/lib/python3.8/dist-packages (from mne->sktime[all_extras]) (2.11.3)\n",
            "Requirement already satisfied: flatbuffers<2,>=1.12 in /usr/local/lib/python3.8/dist-packages (from tensorflow->sktime[all_extras]) (1.12)\n",
            "Requirement already satisfied: opt-einsum>=2.3.2 in /usr/local/lib/python3.8/dist-packages (from tensorflow->sktime[all_extras]) (3.3.0)\n",
            "Requirement already satisfied: tensorflow-io-gcs-filesystem>=0.23.1 in /usr/local/lib/python3.8/dist-packages (from tensorflow->sktime[all_extras]) (0.29.0)\n",
            "Requirement already satisfied: google-pasta>=0.1.1 in /usr/local/lib/python3.8/dist-packages (from tensorflow->sktime[all_extras]) (0.2.0)\n",
            "Requirement already satisfied: tensorflow-estimator<2.10.0,>=2.9.0rc0 in /usr/local/lib/python3.8/dist-packages (from tensorflow->sktime[all_extras]) (2.9.0)\n",
            "Requirement already satisfied: termcolor>=1.1.0 in /usr/local/lib/python3.8/dist-packages (from tensorflow->sktime[all_extras]) (2.2.0)\n",
            "Requirement already satisfied: tensorboard<2.10,>=2.9 in /usr/local/lib/python3.8/dist-packages (from tensorflow->sktime[all_extras]) (2.9.1)\n",
            "Requirement already satisfied: libclang>=13.0.0 in /usr/local/lib/python3.8/dist-packages (from tensorflow->sktime[all_extras]) (14.0.6)\n",
            "Requirement already satisfied: gast<=0.4.0,>=0.2.1 in /usr/local/lib/python3.8/dist-packages (from tensorflow->sktime[all_extras]) (0.4.0)\n",
            "Requirement already satisfied: astunparse>=1.6.0 in /usr/local/lib/python3.8/dist-packages (from tensorflow->sktime[all_extras]) (1.6.3)\n",
            "Requirement already satisfied: absl-py>=1.0.0 in /usr/local/lib/python3.8/dist-packages (from tensorflow->sktime[all_extras]) (1.3.0)\n",
            "Requirement already satisfied: grpcio<2.0,>=1.24.3 in /usr/local/lib/python3.8/dist-packages (from tensorflow->sktime[all_extras]) (1.51.1)\n",
            "Requirement already satisfied: keras<2.10.0,>=2.9.0rc0 in /usr/local/lib/python3.8/dist-packages (from tensorflow->sktime[all_extras]) (2.9.0)\n",
            "Requirement already satisfied: protobuf<3.20,>=3.9.2 in /usr/local/lib/python3.8/dist-packages (from tensorflow->sktime[all_extras]) (3.19.6)\n",
            "Requirement already satisfied: keras-preprocessing>=1.1.1 in /usr/local/lib/python3.8/dist-packages (from tensorflow->sktime[all_extras]) (1.1.2)\n",
            "Requirement already satisfied: dm-tree in /usr/local/lib/python3.8/dist-packages (from tensorflow-probability->sktime[all_extras]) (0.1.8)\n",
            "Requirement already satisfied: pymeeus<=1,>=0.3.13 in /usr/local/lib/python3.8/dist-packages (from convertdate>=2.1.2->prophet>=1.1->sktime[all_extras]) (0.5.12)\n",
            "Requirement already satisfied: psutil>=5.0 in /usr/local/lib/python3.8/dist-packages (from distributed>=2.11.0->tsfresh>=0.17.0->sktime[all_extras]) (5.4.8)\n",
            "Requirement already satisfied: sortedcontainers!=2.0.0,!=2.0.1 in /usr/local/lib/python3.8/dist-packages (from distributed>=2.11.0->tsfresh>=0.17.0->sktime[all_extras]) (2.4.0)\n",
            "Requirement already satisfied: msgpack>=0.6.0 in /usr/local/lib/python3.8/dist-packages (from distributed>=2.11.0->tsfresh>=0.17.0->sktime[all_extras]) (1.0.4)\n",
            "Requirement already satisfied: click>=6.6 in /usr/local/lib/python3.8/dist-packages (from distributed>=2.11.0->tsfresh>=0.17.0->sktime[all_extras]) (7.1.2)\n",
            "Requirement already satisfied: tblib>=1.6.0 in /usr/local/lib/python3.8/dist-packages (from distributed>=2.11.0->tsfresh>=0.17.0->sktime[all_extras]) (1.7.0)\n",
            "Requirement already satisfied: zict>=0.1.3 in /usr/local/lib/python3.8/dist-packages (from distributed>=2.11.0->tsfresh>=0.17.0->sktime[all_extras]) (2.2.0)\n",
            "Requirement already satisfied: tornado>=6.0.3 in /usr/local/lib/python3.8/dist-packages (from distributed>=2.11.0->tsfresh>=0.17.0->sktime[all_extras]) (6.0.4)\n",
            "Requirement already satisfied: hijri-converter in /usr/local/lib/python3.8/dist-packages (from holidays>=0.14.2->prophet>=1.1->sktime[all_extras]) (2.2.4)\n",
            "Requirement already satisfied: korean-lunar-calendar in /usr/local/lib/python3.8/dist-packages (from holidays>=0.14.2->prophet>=1.1->sktime[all_extras]) (0.3.1)\n",
            "Requirement already satisfied: ephem>=3.7.5.3 in /usr/local/lib/python3.8/dist-packages (from LunarCalendar>=0.0.9->prophet>=1.1->sktime[all_extras]) (4.1.4)\n",
            "Requirement already satisfied: locket in /usr/local/lib/python3.8/dist-packages (from partd>=0.3.10->dask->sktime[all_extras]) (1.0.0)\n",
            "Requirement already satisfied: appdirs>=1.3.0 in /usr/local/lib/python3.8/dist-packages (from pooch>=1.5->mne->sktime[all_extras]) (1.4.4)\n",
            "Requirement already satisfied: chardet<5,>=3.0.2 in /usr/local/lib/python3.8/dist-packages (from requests>=2.9.1->tsfresh>=0.17.0->sktime[all_extras]) (4.0.0)\n",
            "Requirement already satisfied: certifi>=2017.4.17 in /usr/local/lib/python3.8/dist-packages (from requests>=2.9.1->tsfresh>=0.17.0->sktime[all_extras]) (2022.12.7)\n",
            "Requirement already satisfied: idna<3,>=2.5 in /usr/local/lib/python3.8/dist-packages (from requests>=2.9.1->tsfresh>=0.17.0->sktime[all_extras]) (2.10)\n",
            "Requirement already satisfied: markdown>=2.6.8 in /usr/local/lib/python3.8/dist-packages (from tensorboard<2.10,>=2.9->tensorflow->sktime[all_extras]) (3.4.1)\n",
            "Requirement already satisfied: tensorboard-data-server<0.7.0,>=0.6.0 in /usr/local/lib/python3.8/dist-packages (from tensorboard<2.10,>=2.9->tensorflow->sktime[all_extras]) (0.6.1)\n",
            "Requirement already satisfied: tensorboard-plugin-wit>=1.6.0 in /usr/local/lib/python3.8/dist-packages (from tensorboard<2.10,>=2.9->tensorflow->sktime[all_extras]) (1.8.1)\n",
            "Requirement already satisfied: google-auth-oauthlib<0.5,>=0.4.1 in /usr/local/lib/python3.8/dist-packages (from tensorboard<2.10,>=2.9->tensorflow->sktime[all_extras]) (0.4.6)\n",
            "Requirement already satisfied: werkzeug>=1.0.1 in /usr/local/lib/python3.8/dist-packages (from tensorboard<2.10,>=2.9->tensorflow->sktime[all_extras]) (1.0.1)\n",
            "Requirement already satisfied: google-auth<3,>=1.6.3 in /usr/local/lib/python3.8/dist-packages (from tensorboard<2.10,>=2.9->tensorflow->sktime[all_extras]) (2.15.0)\n",
            "Requirement already satisfied: zipp>=0.5 in /usr/local/lib/python3.8/dist-packages (from importlib-metadata->numba>=0.55->sktime[all_extras]) (3.11.0)\n",
            "Requirement already satisfied: MarkupSafe>=0.23 in /usr/local/lib/python3.8/dist-packages (from jinja2->mne->sktime[all_extras]) (2.0.1)\n",
            "Requirement already satisfied: tenacity>=6.2.0 in /usr/local/lib/python3.8/dist-packages (from plotly->statsforecast>=0.5.2->sktime[all_extras]) (8.1.0)\n",
            "Requirement already satisfied: cachetools<6.0,>=2.0.0 in /usr/local/lib/python3.8/dist-packages (from google-auth<3,>=1.6.3->tensorboard<2.10,>=2.9->tensorflow->sktime[all_extras]) (5.2.0)\n",
            "Requirement already satisfied: rsa<5,>=3.1.4 in /usr/local/lib/python3.8/dist-packages (from google-auth<3,>=1.6.3->tensorboard<2.10,>=2.9->tensorflow->sktime[all_extras]) (4.9)\n",
            "Requirement already satisfied: pyasn1-modules>=0.2.1 in /usr/local/lib/python3.8/dist-packages (from google-auth<3,>=1.6.3->tensorboard<2.10,>=2.9->tensorflow->sktime[all_extras]) (0.2.8)\n",
            "Requirement already satisfied: requests-oauthlib>=0.7.0 in /usr/local/lib/python3.8/dist-packages (from google-auth-oauthlib<0.5,>=0.4.1->tensorboard<2.10,>=2.9->tensorflow->sktime[all_extras]) (1.3.1)\n",
            "Requirement already satisfied: heapdict in /usr/local/lib/python3.8/dist-packages (from zict>=0.1.3->distributed>=2.11.0->tsfresh>=0.17.0->sktime[all_extras]) (1.0.1)\n",
            "Requirement already satisfied: pyasn1<0.5.0,>=0.4.6 in /usr/local/lib/python3.8/dist-packages (from pyasn1-modules>=0.2.1->google-auth<3,>=1.6.3->tensorboard<2.10,>=2.9->tensorflow->sktime[all_extras]) (0.4.8)\n",
            "Requirement already satisfied: oauthlib>=3.0.0 in /usr/local/lib/python3.8/dist-packages (from requests-oauthlib>=0.7.0->google-auth-oauthlib<0.5,>=0.4.1->tensorboard<2.10,>=2.9->tensorflow->sktime[all_extras]) (3.2.2)\n",
            "Building wheels for collected packages: filterpy, pykalman, pyod, keras-self-attention\n",
            "  Building wheel for filterpy (setup.py) ... \u001b[?25l\u001b[?25hdone\n",
            "  Created wheel for filterpy: filename=filterpy-1.4.5-py3-none-any.whl size=110474 sha256=09ca81a7fb1f56e06ececd3309b2d8317c4634caf9636863cb8c34755bc3643a\n",
            "  Stored in directory: /root/.cache/pip/wheels/fe/f6/cb/40331472edf4fd399b8cad02973c6acbdf26898342928327fe\n",
            "  Building wheel for pykalman (setup.py) ... \u001b[?25l\u001b[?25hdone\n",
            "  Created wheel for pykalman: filename=pykalman-0.9.5-py3-none-any.whl size=48463 sha256=1ac006523f194ca55003d2d54b6be45fd01edb28753a808fc2fea52db2f5b3da\n",
            "  Stored in directory: /root/.cache/pip/wheels/11/16/21/615e29f0001ed6258b25d2a3a84ccfd65c5469b3505d4ab3ab\n",
            "  Building wheel for pyod (setup.py) ... \u001b[?25l\u001b[?25hdone\n",
            "  Created wheel for pyod: filename=pyod-1.0.7-py3-none-any.whl size=181101 sha256=e5af9efd32083ee5ef3bb69969c5a0d63f448e588a63fe9c5ccc45557c26e57a\n",
            "  Stored in directory: /root/.cache/pip/wheels/f7/e2/c1/1c7fd8b261e72411f6509afb429c84532e40ddcd96074473f4\n",
            "  Building wheel for keras-self-attention (setup.py) ... \u001b[?25l\u001b[?25hdone\n",
            "  Created wheel for keras-self-attention: filename=keras_self_attention-0.51.0-py3-none-any.whl size=18913 sha256=efcd5a170ce58346f266f4de60b38eec7eaa95f6eaecc63164aa167373599811\n",
            "  Stored in directory: /root/.cache/pip/wheels/ac/13/2d/3de7c76f618a8d162884ac5b726a8c2242ad88afa370f1e62f\n",
            "Successfully built filterpy pykalman pyod keras-self-attention\n",
            "Installing collected packages: pykalman, keras-self-attention, esig, deprecated, dtw-python, tslearn, stumpy, statsmodels, mne, hmmlearn, gluonts, filterpy, tsfresh, statsforecast, sktime, scikit-posthocs, pyod, pmdarima, tbats\n",
            "  Attempting uninstall: statsmodels\n",
            "    Found existing installation: statsmodels 0.12.2\n",
            "    Uninstalling statsmodels-0.12.2:\n",
            "      Successfully uninstalled statsmodels-0.12.2\n",
            "Successfully installed deprecated-1.2.13 dtw-python-1.3.0 esig-0.9.7 filterpy-1.4.5 gluonts-0.11.7 hmmlearn-0.2.8 keras-self-attention-0.51.0 mne-1.3.0 pmdarima-2.0.2 pykalman-0.9.5 pyod-1.0.7 scikit-posthocs-0.7.0 sktime-0.15.1 statsforecast-1.4.0 statsmodels-0.13.5 stumpy-1.11.1 tbats-1.1.2 tsfresh-0.20.0 tslearn-0.5.2\n",
            "Looking in indexes: https://pypi.org/simple, https://us-python.pkg.dev/colab-wheels/public/simple/\n",
            "Collecting matplotlib==3.1.3\n",
            "  Downloading matplotlib-3.1.3-cp38-cp38-manylinux1_x86_64.whl (13.1 MB)\n",
            "\u001b[2K     \u001b[90m━━━━━━━━━━━━━━━━━━━━━━━━━━━━━━━━━━━━━━━━\u001b[0m \u001b[32m13.1/13.1 MB\u001b[0m \u001b[31m66.9 MB/s\u001b[0m eta \u001b[36m0:00:00\u001b[0m\n",
            "\u001b[?25hRequirement already satisfied: kiwisolver>=1.0.1 in /usr/local/lib/python3.8/dist-packages (from matplotlib==3.1.3) (1.4.4)\n",
            "Requirement already satisfied: python-dateutil>=2.1 in /usr/local/lib/python3.8/dist-packages (from matplotlib==3.1.3) (2.8.2)\n",
            "Requirement already satisfied: cycler>=0.10 in /usr/local/lib/python3.8/dist-packages (from matplotlib==3.1.3) (0.11.0)\n",
            "Requirement already satisfied: pyparsing!=2.0.4,!=2.1.2,!=2.1.6,>=2.0.1 in /usr/local/lib/python3.8/dist-packages (from matplotlib==3.1.3) (3.0.9)\n",
            "Requirement already satisfied: numpy>=1.11 in /usr/local/lib/python3.8/dist-packages (from matplotlib==3.1.3) (1.21.6)\n",
            "Requirement already satisfied: six>=1.5 in /usr/local/lib/python3.8/dist-packages (from python-dateutil>=2.1->matplotlib==3.1.3) (1.15.0)\n",
            "Installing collected packages: matplotlib\n",
            "  Attempting uninstall: matplotlib\n",
            "    Found existing installation: matplotlib 3.6.3\n",
            "    Uninstalling matplotlib-3.6.3:\n",
            "      Successfully uninstalled matplotlib-3.6.3\n",
            "\u001b[31mERROR: pip's dependency resolver does not currently take into account all the packages that are installed. This behaviour is the source of the following dependency conflicts.\n",
            "orbit-ml 1.1.3 requires matplotlib>=3.3.2, but you have matplotlib 3.1.3 which is incompatible.\u001b[0m\u001b[31m\n",
            "\u001b[0mSuccessfully installed matplotlib-3.1.3\n"
          ]
        }
      ]
    },
    {
      "cell_type": "code",
      "metadata": {
        "id": "hzI7Wlnj8ofJ"
      },
      "source": [
        "import orbit\n",
        "import prophet\n",
        "import sktime"
      ],
      "execution_count": 2,
      "outputs": []
    },
    {
      "cell_type": "code",
      "metadata": {
        "id": "37r09zfzFXgE"
      },
      "source": [
        "%matplotlib inline\n",
        "\n",
        "from IPython import display\n",
        "import matplotlib.pyplot as plt\n",
        "\n",
        "import pandas as pd\n",
        "import numpy as np\n"
      ],
      "execution_count": 3,
      "outputs": []
    },
    {
      "cell_type": "markdown",
      "metadata": {
        "id": "CL4IbYsbH_EW"
      },
      "source": [
        "## Задание 1 (2 балла). Поиск и предобработка данных.\n",
        "\n",
        "В этом задании Вам необходимо _самостоятельно_ найти два временных ряда: один должен обладать месячной частотой, а второй — дневной.\n",
        "\n",
        "Мы советуем поискать соответствующие временные ряды на платформе [kaggle](https://www.kaggle.com/datasets) или же взять один из [популярных](https://medium.com/analytics-vidhya/10-time-series-datasets-for-practice-d14fec9f21bc) временных рядов для анализа. \n",
        "\n",
        "**Не рекоммендуется** использовать в качестве временных рядов цены финансовых инструментов в силу плохой предсказуемости изменения цен. **Запрещается** использовать готовые наборы данных из библиотек для анализа временных рядов, например, `from orbit.utils.dataset import load_iclaims`.\n",
        "\n",
        "![bitcoin](https://avatars.mds.yandex.net/get-zen_doc/3417386/pub_6017dd4b8d30cb1780864ae0_6017f4aa8d30cb1780bf66ce/scale_1200)\n",
        "\n",
        "\n",
        "\n",
        "\n",
        "В качестве отчета по заданию:\n",
        "\n",
        "* Опишите источники временных рядов (ссылки на страницы скачивания). В случае, если данные требовали дополнительной обработки, приведите код этой обработки, загрузите данные в личное облачное хранилище и приведите ссылку на скачивание. Процесс получения временных рядов должен быть **четко** расписан и полностью **воспроизводиться**. \n",
        "\n",
        "* Приведите код считывания временных рядов из файлов и разделения на train/test. Соотношение размеров train/test на Ваше усмотрение, но мы советуем Вам выбрать 80% на 20%, если в test остаётся хотя бы пара лет наблюдений.\n",
        "\n"
      ]
    },
    {
      "cell_type": "code",
      "metadata": {
        "colab": {
          "base_uri": "https://localhost:8080/"
        },
        "id": "8wuOXZBLg7k2",
        "outputId": "22969547-8555-49ae-a4d7-ba2953b14a98"
      },
      "source": [
        "!rm -r ./data\n",
        "!mkdir ./data/\n",
        "!pip install gdown\n",
        "\n",
        "!cd ./data && gdown https://drive.google.com/uc?id=1LNDiUOVQzybwiRpfHiBRQmWpyhND2oQD\n",
        "!cd ./data && gdown https://drive.google.com/uc?id=13NCHFP5RSqzrkGkeNTXYQKXbHJDOQtYd"
      ],
      "execution_count": 4,
      "outputs": [
        {
          "output_type": "stream",
          "name": "stdout",
          "text": [
            "rm: cannot remove './data': No such file or directory\n",
            "Looking in indexes: https://pypi.org/simple, https://us-python.pkg.dev/colab-wheels/public/simple/\n",
            "Requirement already satisfied: gdown in /usr/local/lib/python3.8/dist-packages (4.4.0)\n",
            "Requirement already satisfied: tqdm in /usr/local/lib/python3.8/dist-packages (from gdown) (4.64.1)\n",
            "Requirement already satisfied: beautifulsoup4 in /usr/local/lib/python3.8/dist-packages (from gdown) (4.6.3)\n",
            "Requirement already satisfied: filelock in /usr/local/lib/python3.8/dist-packages (from gdown) (3.9.0)\n",
            "Requirement already satisfied: requests[socks] in /usr/local/lib/python3.8/dist-packages (from gdown) (2.25.1)\n",
            "Requirement already satisfied: six in /usr/local/lib/python3.8/dist-packages (from gdown) (1.15.0)\n",
            "Requirement already satisfied: urllib3<1.27,>=1.21.1 in /usr/local/lib/python3.8/dist-packages (from requests[socks]->gdown) (1.24.3)\n",
            "Requirement already satisfied: chardet<5,>=3.0.2 in /usr/local/lib/python3.8/dist-packages (from requests[socks]->gdown) (4.0.0)\n",
            "Requirement already satisfied: certifi>=2017.4.17 in /usr/local/lib/python3.8/dist-packages (from requests[socks]->gdown) (2022.12.7)\n",
            "Requirement already satisfied: idna<3,>=2.5 in /usr/local/lib/python3.8/dist-packages (from requests[socks]->gdown) (2.10)\n",
            "Requirement already satisfied: PySocks!=1.5.7,>=1.5.6 in /usr/local/lib/python3.8/dist-packages (from requests[socks]->gdown) (1.7.1)\n",
            "Downloading...\n",
            "From: https://drive.google.com/uc?id=1LNDiUOVQzybwiRpfHiBRQmWpyhND2oQD\n",
            "To: /content/data/HH Spot Price.csv\n",
            "100% 4.42k/4.42k [00:00<00:00, 4.10MB/s]\n",
            "Downloading...\n",
            "From: https://drive.google.com/uc?id=13NCHFP5RSqzrkGkeNTXYQKXbHJDOQtYd\n",
            "To: /content/data/Nuclear Capacity.csv\n",
            "100% 118k/118k [00:00<00:00, 47.7MB/s]\n"
          ]
        }
      ]
    },
    {
      "cell_type": "code",
      "metadata": {
        "id": "V4tREl4VFXgG",
        "colab": {
          "base_uri": "https://localhost:8080/"
        },
        "outputId": "4e71be3e-f894-4e68-c217-57f8f76ff583"
      },
      "source": [
        "# скачаем данные\n",
        "!wget timeseries1_link\n",
        "!wget timeseries2_link"
      ],
      "execution_count": 5,
      "outputs": [
        {
          "output_type": "stream",
          "name": "stdout",
          "text": [
            "--2023-01-13 15:20:34--  http://timeseries1_link/\n",
            "Resolving timeseries1_link (timeseries1_link)... failed: Name or service not known.\n",
            "wget: unable to resolve host address ‘timeseries1_link’\n",
            "--2023-01-13 15:20:34--  http://timeseries2_link/\n",
            "Resolving timeseries2_link (timeseries2_link)... failed: Name or service not known.\n",
            "wget: unable to resolve host address ‘timeseries2_link’\n"
          ]
        }
      ]
    },
    {
      "cell_type": "markdown",
      "metadata": {
        "id": "xZFdmXpMylbl"
      },
      "source": [
        "Данные скачаны из репозитория: https://github.com/rishabh89007/Time_Series_Datasets"
      ]
    },
    {
      "cell_type": "code",
      "metadata": {
        "id": "kCsOPjrAgs62"
      },
      "source": [
        "# считаем файлы\n",
        "ts1 = pd.read_csv('./data/HH Spot Price.csv', sep=',',header=0,names=['year and month','Gas Price'])\n",
        "ts2 = pd.read_csv('./data/Nuclear Capacity.csv', sep=',',header=0,names=['year, month, day','Nuclear Capacity'])"
      ],
      "execution_count": 6,
      "outputs": []
    },
    {
      "cell_type": "code",
      "metadata": {
        "id": "Q0lvejezHmNT",
        "colab": {
          "base_uri": "https://localhost:8080/",
          "height": 450
        },
        "outputId": "8584707d-72d7-4c4e-b772-f3887de4cb77"
      },
      "source": [
        "ts1['year and month'] = pd.to_datetime(ts1['year and month'].str.strip(), format='%Y %m')\n",
        "ts1['year and month'] = pd.DatetimeIndex(ts1['year and month'])\n",
        "ts1.set_index('year and month')\n",
        "# ts1.index = pd.PeriodIndex(ts1['year and month'], freq='M')"
      ],
      "execution_count": 7,
      "outputs": [
        {
          "output_type": "execute_result",
          "data": {
            "text/plain": [
              "                Gas Price\n",
              "year and month           \n",
              "1997-01-01           3.45\n",
              "1997-02-01           2.15\n",
              "1997-03-01           1.89\n",
              "1997-04-01           2.03\n",
              "1997-05-01           2.25\n",
              "...                   ...\n",
              "2020-11-01           2.61\n",
              "2020-12-01           2.59\n",
              "2021-01-01           2.71\n",
              "2021-02-01           5.35\n",
              "2021-03-01           2.62\n",
              "\n",
              "[291 rows x 1 columns]"
            ],
            "text/html": [
              "\n",
              "  <div id=\"df-7b89f0cc-1237-41b8-9356-08c371a977ca\">\n",
              "    <div class=\"colab-df-container\">\n",
              "      <div>\n",
              "<style scoped>\n",
              "    .dataframe tbody tr th:only-of-type {\n",
              "        vertical-align: middle;\n",
              "    }\n",
              "\n",
              "    .dataframe tbody tr th {\n",
              "        vertical-align: top;\n",
              "    }\n",
              "\n",
              "    .dataframe thead th {\n",
              "        text-align: right;\n",
              "    }\n",
              "</style>\n",
              "<table border=\"1\" class=\"dataframe\">\n",
              "  <thead>\n",
              "    <tr style=\"text-align: right;\">\n",
              "      <th></th>\n",
              "      <th>Gas Price</th>\n",
              "    </tr>\n",
              "    <tr>\n",
              "      <th>year and month</th>\n",
              "      <th></th>\n",
              "    </tr>\n",
              "  </thead>\n",
              "  <tbody>\n",
              "    <tr>\n",
              "      <th>1997-01-01</th>\n",
              "      <td>3.45</td>\n",
              "    </tr>\n",
              "    <tr>\n",
              "      <th>1997-02-01</th>\n",
              "      <td>2.15</td>\n",
              "    </tr>\n",
              "    <tr>\n",
              "      <th>1997-03-01</th>\n",
              "      <td>1.89</td>\n",
              "    </tr>\n",
              "    <tr>\n",
              "      <th>1997-04-01</th>\n",
              "      <td>2.03</td>\n",
              "    </tr>\n",
              "    <tr>\n",
              "      <th>1997-05-01</th>\n",
              "      <td>2.25</td>\n",
              "    </tr>\n",
              "    <tr>\n",
              "      <th>...</th>\n",
              "      <td>...</td>\n",
              "    </tr>\n",
              "    <tr>\n",
              "      <th>2020-11-01</th>\n",
              "      <td>2.61</td>\n",
              "    </tr>\n",
              "    <tr>\n",
              "      <th>2020-12-01</th>\n",
              "      <td>2.59</td>\n",
              "    </tr>\n",
              "    <tr>\n",
              "      <th>2021-01-01</th>\n",
              "      <td>2.71</td>\n",
              "    </tr>\n",
              "    <tr>\n",
              "      <th>2021-02-01</th>\n",
              "      <td>5.35</td>\n",
              "    </tr>\n",
              "    <tr>\n",
              "      <th>2021-03-01</th>\n",
              "      <td>2.62</td>\n",
              "    </tr>\n",
              "  </tbody>\n",
              "</table>\n",
              "<p>291 rows × 1 columns</p>\n",
              "</div>\n",
              "      <button class=\"colab-df-convert\" onclick=\"convertToInteractive('df-7b89f0cc-1237-41b8-9356-08c371a977ca')\"\n",
              "              title=\"Convert this dataframe to an interactive table.\"\n",
              "              style=\"display:none;\">\n",
              "        \n",
              "  <svg xmlns=\"http://www.w3.org/2000/svg\" height=\"24px\"viewBox=\"0 0 24 24\"\n",
              "       width=\"24px\">\n",
              "    <path d=\"M0 0h24v24H0V0z\" fill=\"none\"/>\n",
              "    <path d=\"M18.56 5.44l.94 2.06.94-2.06 2.06-.94-2.06-.94-.94-2.06-.94 2.06-2.06.94zm-11 1L8.5 8.5l.94-2.06 2.06-.94-2.06-.94L8.5 2.5l-.94 2.06-2.06.94zm10 10l.94 2.06.94-2.06 2.06-.94-2.06-.94-.94-2.06-.94 2.06-2.06.94z\"/><path d=\"M17.41 7.96l-1.37-1.37c-.4-.4-.92-.59-1.43-.59-.52 0-1.04.2-1.43.59L10.3 9.45l-7.72 7.72c-.78.78-.78 2.05 0 2.83L4 21.41c.39.39.9.59 1.41.59.51 0 1.02-.2 1.41-.59l7.78-7.78 2.81-2.81c.8-.78.8-2.07 0-2.86zM5.41 20L4 18.59l7.72-7.72 1.47 1.35L5.41 20z\"/>\n",
              "  </svg>\n",
              "      </button>\n",
              "      \n",
              "  <style>\n",
              "    .colab-df-container {\n",
              "      display:flex;\n",
              "      flex-wrap:wrap;\n",
              "      gap: 12px;\n",
              "    }\n",
              "\n",
              "    .colab-df-convert {\n",
              "      background-color: #E8F0FE;\n",
              "      border: none;\n",
              "      border-radius: 50%;\n",
              "      cursor: pointer;\n",
              "      display: none;\n",
              "      fill: #1967D2;\n",
              "      height: 32px;\n",
              "      padding: 0 0 0 0;\n",
              "      width: 32px;\n",
              "    }\n",
              "\n",
              "    .colab-df-convert:hover {\n",
              "      background-color: #E2EBFA;\n",
              "      box-shadow: 0px 1px 2px rgba(60, 64, 67, 0.3), 0px 1px 3px 1px rgba(60, 64, 67, 0.15);\n",
              "      fill: #174EA6;\n",
              "    }\n",
              "\n",
              "    [theme=dark] .colab-df-convert {\n",
              "      background-color: #3B4455;\n",
              "      fill: #D2E3FC;\n",
              "    }\n",
              "\n",
              "    [theme=dark] .colab-df-convert:hover {\n",
              "      background-color: #434B5C;\n",
              "      box-shadow: 0px 1px 3px 1px rgba(0, 0, 0, 0.15);\n",
              "      filter: drop-shadow(0px 1px 2px rgba(0, 0, 0, 0.3));\n",
              "      fill: #FFFFFF;\n",
              "    }\n",
              "  </style>\n",
              "\n",
              "      <script>\n",
              "        const buttonEl =\n",
              "          document.querySelector('#df-7b89f0cc-1237-41b8-9356-08c371a977ca button.colab-df-convert');\n",
              "        buttonEl.style.display =\n",
              "          google.colab.kernel.accessAllowed ? 'block' : 'none';\n",
              "\n",
              "        async function convertToInteractive(key) {\n",
              "          const element = document.querySelector('#df-7b89f0cc-1237-41b8-9356-08c371a977ca');\n",
              "          const dataTable =\n",
              "            await google.colab.kernel.invokeFunction('convertToInteractive',\n",
              "                                                     [key], {});\n",
              "          if (!dataTable) return;\n",
              "\n",
              "          const docLinkHtml = 'Like what you see? Visit the ' +\n",
              "            '<a target=\"_blank\" href=https://colab.research.google.com/notebooks/data_table.ipynb>data table notebook</a>'\n",
              "            + ' to learn more about interactive tables.';\n",
              "          element.innerHTML = '';\n",
              "          dataTable['output_type'] = 'display_data';\n",
              "          await google.colab.output.renderOutput(dataTable, element);\n",
              "          const docLink = document.createElement('div');\n",
              "          docLink.innerHTML = docLinkHtml;\n",
              "          element.appendChild(docLink);\n",
              "        }\n",
              "      </script>\n",
              "    </div>\n",
              "  </div>\n",
              "  "
            ]
          },
          "metadata": {},
          "execution_count": 7
        }
      ]
    },
    {
      "cell_type": "code",
      "metadata": {
        "id": "Dg4AFxjCDmYP",
        "colab": {
          "base_uri": "https://localhost:8080/",
          "height": 450
        },
        "outputId": "b8c3ef9f-f20a-4a66-e3d8-698f5f300b6b"
      },
      "source": [
        "ts2['year, month, day'] = pd.to_datetime(ts2['year, month, day'].str[:-3], format='%Y %m%d')\n",
        "ts2['year, month, day'] = pd.DatetimeIndex(ts2['year, month, day'])\n",
        "ts2.set_index('year, month, day')"
      ],
      "execution_count": 8,
      "outputs": [
        {
          "output_type": "execute_result",
          "data": {
            "text/plain": [
              "                  Nuclear Capacity\n",
              "year, month, day                  \n",
              "2007-01-01                101764.9\n",
              "2007-01-02                101764.9\n",
              "2007-01-03                101764.9\n",
              "2007-01-04                101764.9\n",
              "2007-01-05                101764.9\n",
              "...                            ...\n",
              "2021-04-17                 96434.9\n",
              "2021-04-18                 96434.9\n",
              "2021-04-19                 96434.9\n",
              "2021-04-20                 96434.9\n",
              "2021-04-21                 96434.9\n",
              "\n",
              "[5225 rows x 1 columns]"
            ],
            "text/html": [
              "\n",
              "  <div id=\"df-9f1d261d-5637-45df-b137-fb46afd3fdfa\">\n",
              "    <div class=\"colab-df-container\">\n",
              "      <div>\n",
              "<style scoped>\n",
              "    .dataframe tbody tr th:only-of-type {\n",
              "        vertical-align: middle;\n",
              "    }\n",
              "\n",
              "    .dataframe tbody tr th {\n",
              "        vertical-align: top;\n",
              "    }\n",
              "\n",
              "    .dataframe thead th {\n",
              "        text-align: right;\n",
              "    }\n",
              "</style>\n",
              "<table border=\"1\" class=\"dataframe\">\n",
              "  <thead>\n",
              "    <tr style=\"text-align: right;\">\n",
              "      <th></th>\n",
              "      <th>Nuclear Capacity</th>\n",
              "    </tr>\n",
              "    <tr>\n",
              "      <th>year, month, day</th>\n",
              "      <th></th>\n",
              "    </tr>\n",
              "  </thead>\n",
              "  <tbody>\n",
              "    <tr>\n",
              "      <th>2007-01-01</th>\n",
              "      <td>101764.9</td>\n",
              "    </tr>\n",
              "    <tr>\n",
              "      <th>2007-01-02</th>\n",
              "      <td>101764.9</td>\n",
              "    </tr>\n",
              "    <tr>\n",
              "      <th>2007-01-03</th>\n",
              "      <td>101764.9</td>\n",
              "    </tr>\n",
              "    <tr>\n",
              "      <th>2007-01-04</th>\n",
              "      <td>101764.9</td>\n",
              "    </tr>\n",
              "    <tr>\n",
              "      <th>2007-01-05</th>\n",
              "      <td>101764.9</td>\n",
              "    </tr>\n",
              "    <tr>\n",
              "      <th>...</th>\n",
              "      <td>...</td>\n",
              "    </tr>\n",
              "    <tr>\n",
              "      <th>2021-04-17</th>\n",
              "      <td>96434.9</td>\n",
              "    </tr>\n",
              "    <tr>\n",
              "      <th>2021-04-18</th>\n",
              "      <td>96434.9</td>\n",
              "    </tr>\n",
              "    <tr>\n",
              "      <th>2021-04-19</th>\n",
              "      <td>96434.9</td>\n",
              "    </tr>\n",
              "    <tr>\n",
              "      <th>2021-04-20</th>\n",
              "      <td>96434.9</td>\n",
              "    </tr>\n",
              "    <tr>\n",
              "      <th>2021-04-21</th>\n",
              "      <td>96434.9</td>\n",
              "    </tr>\n",
              "  </tbody>\n",
              "</table>\n",
              "<p>5225 rows × 1 columns</p>\n",
              "</div>\n",
              "      <button class=\"colab-df-convert\" onclick=\"convertToInteractive('df-9f1d261d-5637-45df-b137-fb46afd3fdfa')\"\n",
              "              title=\"Convert this dataframe to an interactive table.\"\n",
              "              style=\"display:none;\">\n",
              "        \n",
              "  <svg xmlns=\"http://www.w3.org/2000/svg\" height=\"24px\"viewBox=\"0 0 24 24\"\n",
              "       width=\"24px\">\n",
              "    <path d=\"M0 0h24v24H0V0z\" fill=\"none\"/>\n",
              "    <path d=\"M18.56 5.44l.94 2.06.94-2.06 2.06-.94-2.06-.94-.94-2.06-.94 2.06-2.06.94zm-11 1L8.5 8.5l.94-2.06 2.06-.94-2.06-.94L8.5 2.5l-.94 2.06-2.06.94zm10 10l.94 2.06.94-2.06 2.06-.94-2.06-.94-.94-2.06-.94 2.06-2.06.94z\"/><path d=\"M17.41 7.96l-1.37-1.37c-.4-.4-.92-.59-1.43-.59-.52 0-1.04.2-1.43.59L10.3 9.45l-7.72 7.72c-.78.78-.78 2.05 0 2.83L4 21.41c.39.39.9.59 1.41.59.51 0 1.02-.2 1.41-.59l7.78-7.78 2.81-2.81c.8-.78.8-2.07 0-2.86zM5.41 20L4 18.59l7.72-7.72 1.47 1.35L5.41 20z\"/>\n",
              "  </svg>\n",
              "      </button>\n",
              "      \n",
              "  <style>\n",
              "    .colab-df-container {\n",
              "      display:flex;\n",
              "      flex-wrap:wrap;\n",
              "      gap: 12px;\n",
              "    }\n",
              "\n",
              "    .colab-df-convert {\n",
              "      background-color: #E8F0FE;\n",
              "      border: none;\n",
              "      border-radius: 50%;\n",
              "      cursor: pointer;\n",
              "      display: none;\n",
              "      fill: #1967D2;\n",
              "      height: 32px;\n",
              "      padding: 0 0 0 0;\n",
              "      width: 32px;\n",
              "    }\n",
              "\n",
              "    .colab-df-convert:hover {\n",
              "      background-color: #E2EBFA;\n",
              "      box-shadow: 0px 1px 2px rgba(60, 64, 67, 0.3), 0px 1px 3px 1px rgba(60, 64, 67, 0.15);\n",
              "      fill: #174EA6;\n",
              "    }\n",
              "\n",
              "    [theme=dark] .colab-df-convert {\n",
              "      background-color: #3B4455;\n",
              "      fill: #D2E3FC;\n",
              "    }\n",
              "\n",
              "    [theme=dark] .colab-df-convert:hover {\n",
              "      background-color: #434B5C;\n",
              "      box-shadow: 0px 1px 3px 1px rgba(0, 0, 0, 0.15);\n",
              "      filter: drop-shadow(0px 1px 2px rgba(0, 0, 0, 0.3));\n",
              "      fill: #FFFFFF;\n",
              "    }\n",
              "  </style>\n",
              "\n",
              "      <script>\n",
              "        const buttonEl =\n",
              "          document.querySelector('#df-9f1d261d-5637-45df-b137-fb46afd3fdfa button.colab-df-convert');\n",
              "        buttonEl.style.display =\n",
              "          google.colab.kernel.accessAllowed ? 'block' : 'none';\n",
              "\n",
              "        async function convertToInteractive(key) {\n",
              "          const element = document.querySelector('#df-9f1d261d-5637-45df-b137-fb46afd3fdfa');\n",
              "          const dataTable =\n",
              "            await google.colab.kernel.invokeFunction('convertToInteractive',\n",
              "                                                     [key], {});\n",
              "          if (!dataTable) return;\n",
              "\n",
              "          const docLinkHtml = 'Like what you see? Visit the ' +\n",
              "            '<a target=\"_blank\" href=https://colab.research.google.com/notebooks/data_table.ipynb>data table notebook</a>'\n",
              "            + ' to learn more about interactive tables.';\n",
              "          element.innerHTML = '';\n",
              "          dataTable['output_type'] = 'display_data';\n",
              "          await google.colab.output.renderOutput(dataTable, element);\n",
              "          const docLink = document.createElement('div');\n",
              "          docLink.innerHTML = docLinkHtml;\n",
              "          element.appendChild(docLink);\n",
              "        }\n",
              "      </script>\n",
              "    </div>\n",
              "  </div>\n",
              "  "
            ]
          },
          "metadata": {},
          "execution_count": 8
        }
      ]
    },
    {
      "cell_type": "code",
      "metadata": {
        "id": "lX3plyGFiUFV"
      },
      "source": [
        "# сделаем разбиение на train/test\n",
        "from sklearn.model_selection import train_test_split\n",
        "\n",
        "X_train_mon, X_test_mon, y_train_mon, y_test_mon = train_test_split(ts1['year and month'], ts1['Gas Price'], test_size=1/3, shuffle=False)\n",
        "X_train_day, X_test_day, y_train_day, y_test_day = train_test_split(ts2['year, month, day'], ts2['Nuclear Capacity'], test_size=1/5, shuffle=False)"
      ],
      "execution_count": 9,
      "outputs": []
    },
    {
      "cell_type": "markdown",
      "metadata": {
        "id": "lotD7Qf7kgYD"
      },
      "source": [
        "## Задание 2. Анализ временных рядов (1 балла).\n",
        "\n",
        "* Отрисуйте временные ряды и визуально сделайте различимым разбиение на выборки — либо вертикальной чертой, либо разными цветами.\n",
        "\n",
        "* Постройте графики автокорреляционных функций для выбранных временных рядов. Прокомментируйте их: являются ли временные ряды сезонными? Видна ли на графиках длина сезонной составляющей ряда?\n",
        "\n",
        "* В случае присутствия сезонности, разбейте временной ряд на повторяющиеся фрагменты и нарисуйте их наложенными для иллюстрации этой сезонности."
      ]
    },
    {
      "cell_type": "code",
      "metadata": {
        "id": "7_nhMyzw6HiI"
      },
      "source": [
        "import matplotlib\n",
        "import matplotlib.dates as mdates"
      ],
      "execution_count": 10,
      "outputs": []
    },
    {
      "cell_type": "code",
      "metadata": {
        "id": "-OQ0Jnp0eNrA",
        "colab": {
          "base_uri": "https://localhost:8080/",
          "height": 730
        },
        "outputId": "87227eac-004c-4a07-8faa-77fec390df71"
      },
      "source": [
        "fig, ax = plt.subplots(figsize=(20,12))\n",
        "ax.xaxis.set_major_formatter(mdates.DateFormatter('%Y-%m'))\n",
        "df = ts1\n",
        "ax.plot(X_train_mon, y_train_mon, label='Gas Price train', color='g')\n",
        "ax.plot(X_test_mon, y_test_mon, label='Gas Price test', color='y')\n",
        "\n",
        "plt.title('Gas Price from 1996 to 2020')\n",
        "plt.xlabel('Months')\n",
        "plt.ylabel('Price for Gas, USD')\n",
        "plt.legend()\n",
        "plt.show()"
      ],
      "execution_count": 11,
      "outputs": [
        {
          "output_type": "display_data",
          "data": {
            "text/plain": [
              "<Figure size 1440x864 with 1 Axes>"
            ],
            "image/png": "[encoded data removed]"
          },
          "metadata": {
            "needs_background": "light"
          }
        }
      ]
    },
    {
      "cell_type": "code",
      "metadata": {
        "colab": {
          "base_uri": "https://localhost:8080/",
          "height": 730
        },
        "id": "xDUVZrxku8Ci",
        "outputId": "42a48a17-18b1-4eaa-efe3-4af44ac66e57"
      },
      "source": [
        "# отрисуем временные ряды\n",
        "fig, ax = plt.subplots(figsize=(20,12))\n",
        "ax.xaxis.set_major_formatter(mdates.DateFormatter('%Y-%m'))\n",
        "ax.plot(X_train_day, y_train_day, label='Nuclear Capacity train', color='g')\n",
        "ax.plot(X_test_day, y_test_day, label='Nuclear Capacity test', color='y')\n",
        "\n",
        "plt.title('Nuclear Capacity from 2007 to 2021')\n",
        "plt.xlabel('Days')\n",
        "plt.ylabel('Price for Gas, USD')\n",
        "plt.legend()\n",
        "plt.show()"
      ],
      "execution_count": 12,
      "outputs": [
        {
          "output_type": "display_data",
          "data": {
            "text/plain": [
              "<Figure size 1440x864 with 1 Axes>"
            ],
            "image/png": "[encoded data removed]"
          },
          "metadata": {
            "needs_background": "light"
          }
        }
      ]
    },
    {
      "cell_type": "code",
      "metadata": {
        "id": "1w0mqBC8o3Ib"
      },
      "source": [
        "from statsmodels.tsa.stattools import acf, pacf"
      ],
      "execution_count": 13,
      "outputs": []
    },
    {
      "cell_type": "code",
      "metadata": {
        "colab": {
          "base_uri": "https://localhost:8080/",
          "height": 301
        },
        "id": "U6SNE0U0pMSU",
        "outputId": "b23a7646-5f82-449e-b50f-c55e584ddf30"
      },
      "source": [
        "lag_acf = acf(ts1.iloc[:,1], nlags=60, fft=False)\n",
        "ACF = pd.Series(lag_acf)\n",
        "ACF.plot(kind = \"bar\", title = 'Correlogram')"
      ],
      "execution_count": 14,
      "outputs": [
        {
          "output_type": "execute_result",
          "data": {
            "text/plain": [
              "<matplotlib.axes._subplots.AxesSubplot at 0x7f5b00e314f0>"
            ]
          },
          "metadata": {},
          "execution_count": 14
        },
        {
          "output_type": "display_data",
          "data": {
            "text/plain": [
              "<Figure size 432x288 with 1 Axes>"
            ],
            "image/png": "[encoded data removed]"
          },
          "metadata": {
            "needs_background": "light"
          }
        }
      ]
    },
    {
      "cell_type": "markdown",
      "metadata": {
        "id": "T9GF7Qt_uV-X"
      },
      "source": [
        "По коррелограмме первого временного ряда мы видим, что четкой сезонности у ряда нет."
      ]
    },
    {
      "cell_type": "code",
      "metadata": {
        "colab": {
          "base_uri": "https://localhost:8080/",
          "height": 301
        },
        "id": "QGBfPpShrWP6",
        "outputId": "6304a7af-4c1f-41e7-eae5-43ccf9b1ed25"
      },
      "source": [
        "lag_acf = acf(ts2.iloc[:,1], nlags=20, fft=False)\n",
        "ACF = pd.Series(lag_acf)\n",
        "ACF.plot(kind = \"bar\", title = 'Correlogram')"
      ],
      "execution_count": 15,
      "outputs": [
        {
          "output_type": "execute_result",
          "data": {
            "text/plain": [
              "<matplotlib.axes._subplots.AxesSubplot at 0x7f5b00c29580>"
            ]
          },
          "metadata": {},
          "execution_count": 15
        },
        {
          "output_type": "display_data",
          "data": {
            "text/plain": [
              "<Figure size 432x288 with 1 Axes>"
            ],
            "image/png": "[encoded data removed]"
          },
          "metadata": {
            "needs_background": "light"
          }
        }
      ]
    },
    {
      "cell_type": "markdown",
      "metadata": {
        "id": "sEFUBvFDtG-_"
      },
      "source": [
        "По коррелограмме второго временного ряда можно сказать, что зависимость есть, при этом со временем она убывает очень медленно."
      ]
    },
    {
      "cell_type": "markdown",
      "metadata": {
        "id": "5G8-l8yuRNLL"
      },
      "source": [
        "## Задание 3. Предсказание месячного временного ряда (4.5 балла).\n",
        "\n",
        "В этом задании Вам предстоит попробовать предсказать месячный временной несколькими готовыми моделями со скользящим или растущим окном и выбрать среди них наилучшую.\n",
        "\n",
        "В качестве метрики сравнения используйте MAE между истинными и предсказанными значениями ряда на тестовом отрезке.\n"
      ]
    },
    {
      "cell_type": "markdown",
      "metadata": {
        "id": "dCrUK4uqjm5r"
      },
      "source": [
        "### NaiveForecaster из sktime (0.5 балл).\n",
        "\n",
        "Посчитайте предсказания следующими двумя наивными способами:\n",
        "\n",
        "* $\\hat{y}_{t+1} = y_{t}$\n",
        "* $\\hat{y}_{t+1} = y_{t-seasonality+1}$"
      ]
    },
    {
      "cell_type": "code",
      "metadata": {
        "id": "_IoFNGRekGUB"
      },
      "source": [
        "from sktime.forecasting.naive import NaiveForecaster\n",
        "\n",
        "forecaster = NaiveForecaster(strategy=\"last\")\n",
        "forecaster.fit(y_train_mon)\n",
        "\n",
        "y_pred = forecaster.predict(X_test_mon.index)"
      ],
      "execution_count": 16,
      "outputs": []
    },
    {
      "cell_type": "code",
      "metadata": {
        "id": "yRN0neLxkLyF",
        "colab": {
          "base_uri": "https://localhost:8080/"
        },
        "outputId": "debdeb5a-c30a-42dc-bd4b-b99be0f8625f"
      },
      "source": [
        "from sklearn.metrics import mean_squared_error\n",
        "\n",
        "# посчитайте метрики на test\n",
        "mean_squared_error(y_test_mon, y_pred)"
      ],
      "execution_count": 17,
      "outputs": [
        {
          "output_type": "execute_result",
          "data": {
            "text/plain": [
              "0.8167061855670105"
            ]
          },
          "metadata": {},
          "execution_count": 17
        }
      ]
    },
    {
      "cell_type": "code",
      "metadata": {
        "colab": {
          "base_uri": "https://localhost:8080/"
        },
        "id": "kcy_yJLV_Chz",
        "outputId": "77fa6f41-1569-49b1-ef6d-65c97e3bb61b"
      },
      "source": [
        "forecaster = NaiveForecaster(strategy=\"mean\", window_length=19, sp=1)\n",
        "forecaster.fit(y_train_mon)\n",
        "\n",
        "y_pred = forecaster.predict(X_test_mon.index)\n",
        "mean_squared_error(y_test_mon, y_pred)"
      ],
      "execution_count": 18,
      "outputs": [
        {
          "output_type": "execute_result",
          "data": {
            "text/plain": [
              "0.7164949967158808"
            ]
          },
          "metadata": {},
          "execution_count": 18
        }
      ]
    },
    {
      "cell_type": "markdown",
      "metadata": {
        "id": "y0H3pYCmkRJB"
      },
      "source": [
        "### ARIMA/AutoArima (1 балл).\n",
        "\n",
        "Обучите из библиотеки `sktime` модели:\n",
        "\n",
        "* SARIMA(1, 1, 1)(1, 0, 0)[12] (`ARIMA` в `sktime`)\n",
        "* Алгоритм Хиндмана-Хандакара подбора SARIMA (`AutoARIMA` в `sktime`)"
      ]
    },
    {
      "cell_type": "code",
      "metadata": {
        "id": "PJZdDAP5kxKD",
        "colab": {
          "base_uri": "https://localhost:8080/"
        },
        "outputId": "8ed0e622-d2bd-4dd2-b239-af18b9dbdcee"
      },
      "source": [
        "from sktime.forecasting.arima import ARIMA, AutoARIMA\n",
        "\n",
        "arima = ARIMA(order=(1, 1, 1), seasonal_order=(1,0,0,12))\n",
        "arima.fit(y_train_mon)\n",
        "y_pred = arima.predict(X_test_mon.index)\n",
        "mean_squared_error(y_test_mon, y_pred)\n",
        "# ваш код обучения моделей здесь"
      ],
      "execution_count": 19,
      "outputs": [
        {
          "output_type": "execute_result",
          "data": {
            "text/plain": [
              "0.7380979010199705"
            ]
          },
          "metadata": {},
          "execution_count": 19
        }
      ]
    },
    {
      "cell_type": "code",
      "metadata": {
        "id": "xVuUqZp5k2LS",
        "colab": {
          "base_uri": "https://localhost:8080/"
        },
        "outputId": "b7200712-095e-42d1-8473-d48c82419d23"
      },
      "source": [
        "arima = AutoARIMA()\n",
        "arima.fit(y_train_mon)\n",
        "y_pred = arima.predict(X_test_mon.index)\n",
        "mean_squared_error(y_test_mon, y_pred)"
      ],
      "execution_count": 20,
      "outputs": [
        {
          "output_type": "stream",
          "name": "stderr",
          "text": [
            "/usr/local/lib/python3.8/dist-packages/statsmodels/tsa/statespace/sarimax.py:966: UserWarning: Non-stationary starting autoregressive parameters found. Using zeros as starting parameters.\n",
            "  warn('Non-stationary starting autoregressive parameters'\n",
            "/usr/local/lib/python3.8/dist-packages/statsmodels/tsa/statespace/sarimax.py:978: UserWarning: Non-invertible starting MA parameters found. Using zeros as starting parameters.\n",
            "  warn('Non-invertible starting MA parameters found.'\n"
          ]
        },
        {
          "output_type": "execute_result",
          "data": {
            "text/plain": [
              "0.8167061855670105"
            ]
          },
          "metadata": {},
          "execution_count": 20
        }
      ]
    },
    {
      "cell_type": "markdown",
      "metadata": {
        "id": "gStdA0Lelhvc"
      },
      "source": [
        "### LGT/DLT (1 балл).\n",
        "\n",
        "Обучите из библиотеки `orbit` модели LGT и DLT"
      ]
    },
    {
      "cell_type": "code",
      "metadata": {
        "id": "4OPLh7ddAVOr",
        "colab": {
          "base_uri": "https://localhost:8080/"
        },
        "outputId": "4b5d9b57-3851-4e33-c03f-5f57c471ff3a"
      },
      "source": [
        "from orbit.models.lgt import LGT\n",
        "from orbit.models.dlt import DLT\n",
        "\n",
        "train = pd.DataFrame(X_train_mon)\n",
        "train['Gas Price'] = y_train_mon\n",
        "lgt = LGT(date_col='year and month', response_col='Gas Price', seasonality=100)\n",
        "lgt.fit(train)\n",
        "# ваш код обучения моделей здесь"
      ],
      "execution_count": 24,
      "outputs": [
        {
          "output_type": "stream",
          "name": "stderr",
          "text": [
            "WARNING:pystan:Maximum (flat) parameter count (1000) exceeded: skipping diagnostic tests for n_eff and Rhat.\n",
            "To run all diagnostics call pystan.check_hmc_diagnostics(fit)\n"
          ]
        },
        {
          "output_type": "execute_result",
          "data": {
            "text/plain": [
              "<orbit.forecaster.full_bayes.FullBayesianForecaster at 0x7f5a7cb7fb80>"
            ]
          },
          "metadata": {},
          "execution_count": 24
        }
      ]
    },
    {
      "cell_type": "code",
      "metadata": {
        "id": "GNgYiUzMyMKN"
      },
      "source": [
        "test = pd.DataFrame(X_test_mon)\n",
        "test['Gas Price'] = y_test_mon\n",
        "y_pred = lgt.predict(test)"
      ],
      "execution_count": 25,
      "outputs": []
    },
    {
      "cell_type": "code",
      "metadata": {
        "colab": {
          "base_uri": "https://localhost:8080/",
          "height": 419
        },
        "id": "3D92IKnNyluB",
        "outputId": "a88678b8-ab14-428e-ce02-70795ea42684"
      },
      "source": [
        "y_pred"
      ],
      "execution_count": 26,
      "outputs": [
        {
          "output_type": "execute_result",
          "data": {
            "text/plain": [
              "   year and month  prediction_5  prediction  prediction_95\n",
              "0      2013-03-01      1.540455    2.891130       4.497684\n",
              "1      2013-04-01      1.189430    3.240685       5.206263\n",
              "2      2013-05-01      1.097005    2.960018       5.047206\n",
              "3      2013-06-01      0.232377    2.865644       5.703112\n",
              "4      2013-07-01     -0.044087    3.508319       6.632172\n",
              "..            ...           ...         ...            ...\n",
              "92     2020-11-01      0.427914    7.187386      35.991289\n",
              "93     2020-12-01     -0.185206    7.075785      37.012699\n",
              "94     2021-01-01      0.064819    7.309329      37.933284\n",
              "95     2021-02-01      0.375586    7.403747      38.068961\n",
              "96     2021-03-01      0.456726    7.270248      39.058673\n",
              "\n",
              "[97 rows x 4 columns]"
            ],
            "text/html": [
              "\n",
              "  <div id=\"df-16110d1d-6291-46e2-ad56-ec9fb8d31ad5\">\n",
              "    <div class=\"colab-df-container\">\n",
              "      <div>\n",
              "<style scoped>\n",
              "    .dataframe tbody tr th:only-of-type {\n",
              "        vertical-align: middle;\n",
              "    }\n",
              "\n",
              "    .dataframe tbody tr th {\n",
              "        vertical-align: top;\n",
              "    }\n",
              "\n",
              "    .dataframe thead th {\n",
              "        text-align: right;\n",
              "    }\n",
              "</style>\n",
              "<table border=\"1\" class=\"dataframe\">\n",
              "  <thead>\n",
              "    <tr style=\"text-align: right;\">\n",
              "      <th></th>\n",
              "      <th>year and month</th>\n",
              "      <th>prediction_5</th>\n",
              "      <th>prediction</th>\n",
              "      <th>prediction_95</th>\n",
              "    </tr>\n",
              "  </thead>\n",
              "  <tbody>\n",
              "    <tr>\n",
              "      <th>0</th>\n",
              "      <td>2013-03-01</td>\n",
              "      <td>1.540455</td>\n",
              "      <td>2.891130</td>\n",
              "      <td>4.497684</td>\n",
              "    </tr>\n",
              "    <tr>\n",
              "      <th>1</th>\n",
              "      <td>2013-04-01</td>\n",
              "      <td>1.189430</td>\n",
              "      <td>3.240685</td>\n",
              "      <td>5.206263</td>\n",
              "    </tr>\n",
              "    <tr>\n",
              "      <th>2</th>\n",
              "      <td>2013-05-01</td>\n",
              "      <td>1.097005</td>\n",
              "      <td>2.960018</td>\n",
              "      <td>5.047206</td>\n",
              "    </tr>\n",
              "    <tr>\n",
              "      <th>3</th>\n",
              "      <td>2013-06-01</td>\n",
              "      <td>0.232377</td>\n",
              "      <td>2.865644</td>\n",
              "      <td>5.703112</td>\n",
              "    </tr>\n",
              "    <tr>\n",
              "      <th>4</th>\n",
              "      <td>2013-07-01</td>\n",
              "      <td>-0.044087</td>\n",
              "      <td>3.508319</td>\n",
              "      <td>6.632172</td>\n",
              "    </tr>\n",
              "    <tr>\n",
              "      <th>...</th>\n",
              "      <td>...</td>\n",
              "      <td>...</td>\n",
              "      <td>...</td>\n",
              "      <td>...</td>\n",
              "    </tr>\n",
              "    <tr>\n",
              "      <th>92</th>\n",
              "      <td>2020-11-01</td>\n",
              "      <td>0.427914</td>\n",
              "      <td>7.187386</td>\n",
              "      <td>35.991289</td>\n",
              "    </tr>\n",
              "    <tr>\n",
              "      <th>93</th>\n",
              "      <td>2020-12-01</td>\n",
              "      <td>-0.185206</td>\n",
              "      <td>7.075785</td>\n",
              "      <td>37.012699</td>\n",
              "    </tr>\n",
              "    <tr>\n",
              "      <th>94</th>\n",
              "      <td>2021-01-01</td>\n",
              "      <td>0.064819</td>\n",
              "      <td>7.309329</td>\n",
              "      <td>37.933284</td>\n",
              "    </tr>\n",
              "    <tr>\n",
              "      <th>95</th>\n",
              "      <td>2021-02-01</td>\n",
              "      <td>0.375586</td>\n",
              "      <td>7.403747</td>\n",
              "      <td>38.068961</td>\n",
              "    </tr>\n",
              "    <tr>\n",
              "      <th>96</th>\n",
              "      <td>2021-03-01</td>\n",
              "      <td>0.456726</td>\n",
              "      <td>7.270248</td>\n",
              "      <td>39.058673</td>\n",
              "    </tr>\n",
              "  </tbody>\n",
              "</table>\n",
              "<p>97 rows × 4 columns</p>\n",
              "</div>\n",
              "      <button class=\"colab-df-convert\" onclick=\"convertToInteractive('df-16110d1d-6291-46e2-ad56-ec9fb8d31ad5')\"\n",
              "              title=\"Convert this dataframe to an interactive table.\"\n",
              "              style=\"display:none;\">\n",
              "        \n",
              "  <svg xmlns=\"http://www.w3.org/2000/svg\" height=\"24px\"viewBox=\"0 0 24 24\"\n",
              "       width=\"24px\">\n",
              "    <path d=\"M0 0h24v24H0V0z\" fill=\"none\"/>\n",
              "    <path d=\"M18.56 5.44l.94 2.06.94-2.06 2.06-.94-2.06-.94-.94-2.06-.94 2.06-2.06.94zm-11 1L8.5 8.5l.94-2.06 2.06-.94-2.06-.94L8.5 2.5l-.94 2.06-2.06.94zm10 10l.94 2.06.94-2.06 2.06-.94-2.06-.94-.94-2.06-.94 2.06-2.06.94z\"/><path d=\"M17.41 7.96l-1.37-1.37c-.4-.4-.92-.59-1.43-.59-.52 0-1.04.2-1.43.59L10.3 9.45l-7.72 7.72c-.78.78-.78 2.05 0 2.83L4 21.41c.39.39.9.59 1.41.59.51 0 1.02-.2 1.41-.59l7.78-7.78 2.81-2.81c.8-.78.8-2.07 0-2.86zM5.41 20L4 18.59l7.72-7.72 1.47 1.35L5.41 20z\"/>\n",
              "  </svg>\n",
              "      </button>\n",
              "      \n",
              "  <style>\n",
              "    .colab-df-container {\n",
              "      display:flex;\n",
              "      flex-wrap:wrap;\n",
              "      gap: 12px;\n",
              "    }\n",
              "\n",
              "    .colab-df-convert {\n",
              "      background-color: #E8F0FE;\n",
              "      border: none;\n",
              "      border-radius: 50%;\n",
              "      cursor: pointer;\n",
              "      display: none;\n",
              "      fill: #1967D2;\n",
              "      height: 32px;\n",
              "      padding: 0 0 0 0;\n",
              "      width: 32px;\n",
              "    }\n",
              "\n",
              "    .colab-df-convert:hover {\n",
              "      background-color: #E2EBFA;\n",
              "      box-shadow: 0px 1px 2px rgba(60, 64, 67, 0.3), 0px 1px 3px 1px rgba(60, 64, 67, 0.15);\n",
              "      fill: #174EA6;\n",
              "    }\n",
              "\n",
              "    [theme=dark] .colab-df-convert {\n",
              "      background-color: #3B4455;\n",
              "      fill: #D2E3FC;\n",
              "    }\n",
              "\n",
              "    [theme=dark] .colab-df-convert:hover {\n",
              "      background-color: #434B5C;\n",
              "      box-shadow: 0px 1px 3px 1px rgba(0, 0, 0, 0.15);\n",
              "      filter: drop-shadow(0px 1px 2px rgba(0, 0, 0, 0.3));\n",
              "      fill: #FFFFFF;\n",
              "    }\n",
              "  </style>\n",
              "\n",
              "      <script>\n",
              "        const buttonEl =\n",
              "          document.querySelector('#df-16110d1d-6291-46e2-ad56-ec9fb8d31ad5 button.colab-df-convert');\n",
              "        buttonEl.style.display =\n",
              "          google.colab.kernel.accessAllowed ? 'block' : 'none';\n",
              "\n",
              "        async function convertToInteractive(key) {\n",
              "          const element = document.querySelector('#df-16110d1d-6291-46e2-ad56-ec9fb8d31ad5');\n",
              "          const dataTable =\n",
              "            await google.colab.kernel.invokeFunction('convertToInteractive',\n",
              "                                                     [key], {});\n",
              "          if (!dataTable) return;\n",
              "\n",
              "          const docLinkHtml = 'Like what you see? Visit the ' +\n",
              "            '<a target=\"_blank\" href=https://colab.research.google.com/notebooks/data_table.ipynb>data table notebook</a>'\n",
              "            + ' to learn more about interactive tables.';\n",
              "          element.innerHTML = '';\n",
              "          dataTable['output_type'] = 'display_data';\n",
              "          await google.colab.output.renderOutput(dataTable, element);\n",
              "          const docLink = document.createElement('div');\n",
              "          docLink.innerHTML = docLinkHtml;\n",
              "          element.appendChild(docLink);\n",
              "        }\n",
              "      </script>\n",
              "    </div>\n",
              "  </div>\n",
              "  "
            ]
          },
          "metadata": {},
          "execution_count": 26
        }
      ]
    },
    {
      "cell_type": "code",
      "metadata": {
        "colab": {
          "base_uri": "https://localhost:8080/"
        },
        "id": "0dElBRh1yk1e",
        "outputId": "fd4f0191-2917-4c19-f985-9f4fea502f94"
      },
      "source": [
        "mean_squared_error(y_test_mon, y_pred['prediction'])"
      ],
      "execution_count": 27,
      "outputs": [
        {
          "output_type": "execute_result",
          "data": {
            "text/plain": [
              "6.336924300414099"
            ]
          },
          "metadata": {},
          "execution_count": 27
        }
      ]
    },
    {
      "cell_type": "code",
      "metadata": {
        "id": "g76lFNQCl2CA",
        "colab": {
          "base_uri": "https://localhost:8080/"
        },
        "outputId": "31bf2f88-b848-4f44-c2db-d71aa386a1fd"
      },
      "source": [
        "dlt = DLT(date_col='year and month', response_col='Gas Price', seasonality=100)\n",
        "dlt.fit(train)\n",
        "y_pred = dlt.predict(test)"
      ],
      "execution_count": 28,
      "outputs": [
        {
          "output_type": "stream",
          "name": "stderr",
          "text": [
            "WARNING:pystan:Maximum (flat) parameter count (1000) exceeded: skipping diagnostic tests for n_eff and Rhat.\n",
            "To run all diagnostics call pystan.check_hmc_diagnostics(fit)\n"
          ]
        }
      ]
    },
    {
      "cell_type": "code",
      "metadata": {
        "colab": {
          "base_uri": "https://localhost:8080/",
          "height": 419
        },
        "id": "1i6Hc-UsztK4",
        "outputId": "ccfd9728-b57d-4d8d-ff0a-331b55d67f73"
      },
      "source": [
        "y_pred"
      ],
      "execution_count": 29,
      "outputs": [
        {
          "output_type": "execute_result",
          "data": {
            "text/plain": [
              "   year and month  prediction_5  prediction  prediction_95\n",
              "0      2013-03-01      1.824693    2.936724       4.428452\n",
              "1      2013-04-01      1.814269    3.290482       5.018181\n",
              "2      2013-05-01      0.971107    2.984632       4.867112\n",
              "3      2013-06-01      0.094319    2.686746       5.814126\n",
              "4      2013-07-01      0.628903    3.147491       6.569256\n",
              "..            ...           ...         ...            ...\n",
              "92     2020-11-01    -22.316323    2.131169      25.549714\n",
              "93     2020-12-01    -21.629578    2.464161      24.682163\n",
              "94     2021-01-01    -21.895021    2.181081      24.934222\n",
              "95     2021-02-01    -22.375816    1.729212      25.134599\n",
              "96     2021-03-01    -21.830854    2.034874      25.247879\n",
              "\n",
              "[97 rows x 4 columns]"
            ],
            "text/html": [
              "\n",
              "  <div id=\"df-bde0fc41-14e2-461c-83de-ee46fd8fff63\">\n",
              "    <div class=\"colab-df-container\">\n",
              "      <div>\n",
              "<style scoped>\n",
              "    .dataframe tbody tr th:only-of-type {\n",
              "        vertical-align: middle;\n",
              "    }\n",
              "\n",
              "    .dataframe tbody tr th {\n",
              "        vertical-align: top;\n",
              "    }\n",
              "\n",
              "    .dataframe thead th {\n",
              "        text-align: right;\n",
              "    }\n",
              "</style>\n",
              "<table border=\"1\" class=\"dataframe\">\n",
              "  <thead>\n",
              "    <tr style=\"text-align: right;\">\n",
              "      <th></th>\n",
              "      <th>year and month</th>\n",
              "      <th>prediction_5</th>\n",
              "      <th>prediction</th>\n",
              "      <th>prediction_95</th>\n",
              "    </tr>\n",
              "  </thead>\n",
              "  <tbody>\n",
              "    <tr>\n",
              "      <th>0</th>\n",
              "      <td>2013-03-01</td>\n",
              "      <td>1.824693</td>\n",
              "      <td>2.936724</td>\n",
              "      <td>4.428452</td>\n",
              "    </tr>\n",
              "    <tr>\n",
              "      <th>1</th>\n",
              "      <td>2013-04-01</td>\n",
              "      <td>1.814269</td>\n",
              "      <td>3.290482</td>\n",
              "      <td>5.018181</td>\n",
              "    </tr>\n",
              "    <tr>\n",
              "      <th>2</th>\n",
              "      <td>2013-05-01</td>\n",
              "      <td>0.971107</td>\n",
              "      <td>2.984632</td>\n",
              "      <td>4.867112</td>\n",
              "    </tr>\n",
              "    <tr>\n",
              "      <th>3</th>\n",
              "      <td>2013-06-01</td>\n",
              "      <td>0.094319</td>\n",
              "      <td>2.686746</td>\n",
              "      <td>5.814126</td>\n",
              "    </tr>\n",
              "    <tr>\n",
              "      <th>4</th>\n",
              "      <td>2013-07-01</td>\n",
              "      <td>0.628903</td>\n",
              "      <td>3.147491</td>\n",
              "      <td>6.569256</td>\n",
              "    </tr>\n",
              "    <tr>\n",
              "      <th>...</th>\n",
              "      <td>...</td>\n",
              "      <td>...</td>\n",
              "      <td>...</td>\n",
              "      <td>...</td>\n",
              "    </tr>\n",
              "    <tr>\n",
              "      <th>92</th>\n",
              "      <td>2020-11-01</td>\n",
              "      <td>-22.316323</td>\n",
              "      <td>2.131169</td>\n",
              "      <td>25.549714</td>\n",
              "    </tr>\n",
              "    <tr>\n",
              "      <th>93</th>\n",
              "      <td>2020-12-01</td>\n",
              "      <td>-21.629578</td>\n",
              "      <td>2.464161</td>\n",
              "      <td>24.682163</td>\n",
              "    </tr>\n",
              "    <tr>\n",
              "      <th>94</th>\n",
              "      <td>2021-01-01</td>\n",
              "      <td>-21.895021</td>\n",
              "      <td>2.181081</td>\n",
              "      <td>24.934222</td>\n",
              "    </tr>\n",
              "    <tr>\n",
              "      <th>95</th>\n",
              "      <td>2021-02-01</td>\n",
              "      <td>-22.375816</td>\n",
              "      <td>1.729212</td>\n",
              "      <td>25.134599</td>\n",
              "    </tr>\n",
              "    <tr>\n",
              "      <th>96</th>\n",
              "      <td>2021-03-01</td>\n",
              "      <td>-21.830854</td>\n",
              "      <td>2.034874</td>\n",
              "      <td>25.247879</td>\n",
              "    </tr>\n",
              "  </tbody>\n",
              "</table>\n",
              "<p>97 rows × 4 columns</p>\n",
              "</div>\n",
              "      <button class=\"colab-df-convert\" onclick=\"convertToInteractive('df-bde0fc41-14e2-461c-83de-ee46fd8fff63')\"\n",
              "              title=\"Convert this dataframe to an interactive table.\"\n",
              "              style=\"display:none;\">\n",
              "        \n",
              "  <svg xmlns=\"http://www.w3.org/2000/svg\" height=\"24px\"viewBox=\"0 0 24 24\"\n",
              "       width=\"24px\">\n",
              "    <path d=\"M0 0h24v24H0V0z\" fill=\"none\"/>\n",
              "    <path d=\"M18.56 5.44l.94 2.06.94-2.06 2.06-.94-2.06-.94-.94-2.06-.94 2.06-2.06.94zm-11 1L8.5 8.5l.94-2.06 2.06-.94-2.06-.94L8.5 2.5l-.94 2.06-2.06.94zm10 10l.94 2.06.94-2.06 2.06-.94-2.06-.94-.94-2.06-.94 2.06-2.06.94z\"/><path d=\"M17.41 7.96l-1.37-1.37c-.4-.4-.92-.59-1.43-.59-.52 0-1.04.2-1.43.59L10.3 9.45l-7.72 7.72c-.78.78-.78 2.05 0 2.83L4 21.41c.39.39.9.59 1.41.59.51 0 1.02-.2 1.41-.59l7.78-7.78 2.81-2.81c.8-.78.8-2.07 0-2.86zM5.41 20L4 18.59l7.72-7.72 1.47 1.35L5.41 20z\"/>\n",
              "  </svg>\n",
              "      </button>\n",
              "      \n",
              "  <style>\n",
              "    .colab-df-container {\n",
              "      display:flex;\n",
              "      flex-wrap:wrap;\n",
              "      gap: 12px;\n",
              "    }\n",
              "\n",
              "    .colab-df-convert {\n",
              "      background-color: #E8F0FE;\n",
              "      border: none;\n",
              "      border-radius: 50%;\n",
              "      cursor: pointer;\n",
              "      display: none;\n",
              "      fill: #1967D2;\n",
              "      height: 32px;\n",
              "      padding: 0 0 0 0;\n",
              "      width: 32px;\n",
              "    }\n",
              "\n",
              "    .colab-df-convert:hover {\n",
              "      background-color: #E2EBFA;\n",
              "      box-shadow: 0px 1px 2px rgba(60, 64, 67, 0.3), 0px 1px 3px 1px rgba(60, 64, 67, 0.15);\n",
              "      fill: #174EA6;\n",
              "    }\n",
              "\n",
              "    [theme=dark] .colab-df-convert {\n",
              "      background-color: #3B4455;\n",
              "      fill: #D2E3FC;\n",
              "    }\n",
              "\n",
              "    [theme=dark] .colab-df-convert:hover {\n",
              "      background-color: #434B5C;\n",
              "      box-shadow: 0px 1px 3px 1px rgba(0, 0, 0, 0.15);\n",
              "      filter: drop-shadow(0px 1px 2px rgba(0, 0, 0, 0.3));\n",
              "      fill: #FFFFFF;\n",
              "    }\n",
              "  </style>\n",
              "\n",
              "      <script>\n",
              "        const buttonEl =\n",
              "          document.querySelector('#df-bde0fc41-14e2-461c-83de-ee46fd8fff63 button.colab-df-convert');\n",
              "        buttonEl.style.display =\n",
              "          google.colab.kernel.accessAllowed ? 'block' : 'none';\n",
              "\n",
              "        async function convertToInteractive(key) {\n",
              "          const element = document.querySelector('#df-bde0fc41-14e2-461c-83de-ee46fd8fff63');\n",
              "          const dataTable =\n",
              "            await google.colab.kernel.invokeFunction('convertToInteractive',\n",
              "                                                     [key], {});\n",
              "          if (!dataTable) return;\n",
              "\n",
              "          const docLinkHtml = 'Like what you see? Visit the ' +\n",
              "            '<a target=\"_blank\" href=https://colab.research.google.com/notebooks/data_table.ipynb>data table notebook</a>'\n",
              "            + ' to learn more about interactive tables.';\n",
              "          element.innerHTML = '';\n",
              "          dataTable['output_type'] = 'display_data';\n",
              "          await google.colab.output.renderOutput(dataTable, element);\n",
              "          const docLink = document.createElement('div');\n",
              "          docLink.innerHTML = docLinkHtml;\n",
              "          element.appendChild(docLink);\n",
              "        }\n",
              "      </script>\n",
              "    </div>\n",
              "  </div>\n",
              "  "
            ]
          },
          "metadata": {},
          "execution_count": 29
        }
      ]
    },
    {
      "cell_type": "code",
      "metadata": {
        "colab": {
          "base_uri": "https://localhost:8080/"
        },
        "id": "tNZK4auh0AOU",
        "outputId": "b6816ef9-a96f-4bac-bf06-53375a830670"
      },
      "source": [
        "mean_squared_error(y_test_mon, y_pred['prediction'])"
      ],
      "execution_count": 30,
      "outputs": [
        {
          "output_type": "execute_result",
          "data": {
            "text/plain": [
              "0.708023019157649"
            ]
          },
          "metadata": {},
          "execution_count": 30
        }
      ]
    },
    {
      "cell_type": "markdown",
      "metadata": {
        "id": "djQ5Ej_Ql-tK"
      },
      "source": [
        "### ETS (2 балла).\n",
        "\n",
        "Обучите из библиотеки `sklearn` модели:\n",
        "\n",
        "* ETS(AAA) (`ExponentialSmoothing` в `sktime`)\n",
        "* ETS с автоматическим выбором по AIC (`AutoETS` в `sktime`)"
      ]
    },
    {
      "cell_type": "code",
      "metadata": {
        "id": "bufbWl7lmRq5",
        "colab": {
          "base_uri": "https://localhost:8080/"
        },
        "outputId": "d54ea3ee-5cb7-4d85-f89d-e0362ff8faad"
      },
      "source": [
        "from sktime.forecasting.exp_smoothing import ExponentialSmoothing\n",
        "from sktime.forecasting.ets import AutoETS\n",
        "\n",
        "exp = ExponentialSmoothing(trend='add', seasonal='multiplicative', sp=12)\n",
        "exp.fit(y_train_mon)\n",
        "y_pred = exp.predict(X_test_mon.index)\n",
        "mean_squared_error(y_test_mon, y_pred)"
      ],
      "execution_count": 31,
      "outputs": [
        {
          "output_type": "execute_result",
          "data": {
            "text/plain": [
              "0.7457463355157973"
            ]
          },
          "metadata": {},
          "execution_count": 31
        }
      ]
    },
    {
      "cell_type": "code",
      "metadata": {
        "id": "3rZPu6X-myIH",
        "colab": {
          "base_uri": "https://localhost:8080/"
        },
        "outputId": "5880959e-cf57-4eda-c7bf-b7f29bab8198"
      },
      "source": [
        "ets = AutoETS(trend='add')\n",
        "ets.fit(y_train_mon)\n",
        "y_pred = ets.predict(X_test_mon.index)\n",
        "mean_squared_error(y_test_mon, y_pred)"
      ],
      "execution_count": 32,
      "outputs": [
        {
          "output_type": "execute_result",
          "data": {
            "text/plain": [
              "0.7461789375521032"
            ]
          },
          "metadata": {},
          "execution_count": 32
        }
      ]
    },
    {
      "cell_type": "markdown",
      "metadata": {
        "id": "VBWcts9zm6_R"
      },
      "source": [
        "Нарисуйте для наилучшей модели предсказания с доверительным интервалом (если модель выдает его) и наложите их на истинные значения. В `sktime` `ETS` модель пока ещё не выдаёт доверительные интервалы, но при желании до них можно дотянуться :)"
      ]
    },
    {
      "cell_type": "markdown",
      "metadata": {
        "id": "8lvGLZzmv84k"
      },
      "source": [
        "Лучшим оказалось предсказание NaiveForcaster, поэтому рисую его, хотя график и не такой интересный."
      ]
    },
    {
      "cell_type": "code",
      "metadata": {
        "id": "ywyajRSonIld"
      },
      "source": [
        "# нарисуйте пресказания\n",
        "forecaster = NaiveForecaster(strategy=\"mean\", window_length=19, sp=1)\n",
        "forecaster.fit(y_train_mon)\n",
        "\n",
        "y_pred = forecaster.predict(X_test_mon.index)"
      ],
      "execution_count": 33,
      "outputs": []
    },
    {
      "cell_type": "code",
      "metadata": {
        "colab": {
          "base_uri": "https://localhost:8080/",
          "height": 730
        },
        "id": "q9wMvw2D7A6M",
        "outputId": "4e577e9c-d6bd-44e0-c8a1-f8a6740c301d"
      },
      "source": [
        "plt.figure(figsize=(20, 12))\n",
        "plt.plot(X_test_mon,y_pred, label='Prediction', color='r')\n",
        "plt.plot(X_test_mon,y_test_mon, label='Real', color='g')\n",
        "plt.title('Gas Price from 2013 to 2021')\n",
        "plt.xlabel('Months')\n",
        "plt.ylabel('Price for Gas, USD')\n",
        "plt.legend()\n",
        "plt.show()"
      ],
      "execution_count": 34,
      "outputs": [
        {
          "output_type": "display_data",
          "data": {
            "text/plain": [
              "<Figure size 1440x864 with 1 Axes>"
            ],
            "image/png": "[encoded data removed]"
          },
          "metadata": {
            "needs_background": "light"
          }
        }
      ]
    },
    {
      "cell_type": "markdown",
      "metadata": {
        "id": "9zOIFtBCng_F"
      },
      "source": [
        "## Задание 4. Предсказание дневного временного ряда (2.5 балла).\n",
        "\n",
        "В этом задании Вам предстоит попробовать предсказать выбранный Вами дневной временной ряд.\n",
        "\n",
        "Аналогично, в качестве метрики используем MAE.\n",
        "\n"
      ]
    },
    {
      "cell_type": "markdown",
      "metadata": {
        "id": "yi4Xtcnpn90l"
      },
      "source": [
        "### NaiveForecaster из sktime (0.5 балла).\n",
        "\n",
        "Посчитайте предсказания следующими двумя наивными способами:\n",
        "\n",
        "* $\\hat{y}_{t+1} = y_{t}$\n",
        "* $\\hat{y}_{t+1} = y_{t-seasonality+1}$"
      ]
    },
    {
      "cell_type": "code",
      "metadata": {
        "id": "nlWt52e6nz6p",
        "colab": {
          "base_uri": "https://localhost:8080/"
        },
        "outputId": "47d7e9ff-4e59-4fea-f415-211d95a849a8"
      },
      "source": [
        "from sktime.forecasting.naive import NaiveForecaster\n",
        "\n",
        "# ваш код обучения моделей здесь\n",
        "forecaster = NaiveForecaster(strategy=\"last\", sp=30)\n",
        "forecaster.fit(y_train_day)\n",
        "\n",
        "y_pred = forecaster.predict(X_test_day.index)\n",
        "mean_squared_error(y_test_day, y_pred)"
      ],
      "execution_count": 35,
      "outputs": [
        {
          "output_type": "execute_result",
          "data": {
            "text/plain": [
              "27807507.97840192"
            ]
          },
          "metadata": {},
          "execution_count": 35
        }
      ]
    },
    {
      "cell_type": "code",
      "metadata": {
        "id": "fgN3g8C0oBbd",
        "colab": {
          "base_uri": "https://localhost:8080/"
        },
        "outputId": "30092534-27d2-49a1-fc0f-5ac2385f945d"
      },
      "source": [
        "forecaster = NaiveForecaster(strategy=\"mean\", window_length=30, sp=5)\n",
        "forecaster.fit(y_train_day)\n",
        "\n",
        "y_pred = forecaster.predict(X_test_day.index)\n",
        "mean_squared_error(y_test_day, y_pred)"
      ],
      "execution_count": 36,
      "outputs": [
        {
          "output_type": "execute_result",
          "data": {
            "text/plain": [
              "27893231.201906692"
            ]
          },
          "metadata": {},
          "execution_count": 36
        }
      ]
    },
    {
      "cell_type": "markdown",
      "metadata": {
        "id": "F9SxF6cKoHI-"
      },
      "source": [
        "### KTR из orbit (1 балл).\n",
        "\n"
      ]
    },
    {
      "cell_type": "code",
      "metadata": {
        "id": "IM1ELnZnoe_k",
        "colab": {
          "base_uri": "https://localhost:8080/"
        },
        "outputId": "f812664b-6717-44f7-96b1-e553450edeb6"
      },
      "source": [
        "from orbit.models.ktrlite import KTRLite\n",
        "\n",
        "# ваш код обучения моделей здесь\n",
        "train = pd.DataFrame(X_train_day)\n",
        "train['Nuclear Capacity'] = y_train_day\n",
        "ktr = KTRLite(date_col='year, month, day', response_col='Nuclear Capacity', seasonality=365)\n",
        "ktr.fit(train)"
      ],
      "execution_count": 39,
      "outputs": [
        {
          "output_type": "execute_result",
          "data": {
            "text/plain": [
              "<orbit.forecaster.map.MAPForecaster at 0x7f5b00c29d60>"
            ]
          },
          "metadata": {},
          "execution_count": 39
        }
      ]
    },
    {
      "cell_type": "code",
      "metadata": {
        "id": "FgXzlxpAojdZ"
      },
      "source": [
        "# посчитайте метрики на test\n",
        "test = pd.DataFrame(X_test_day)\n",
        "test['Nuclear Capacity'] = y_test_day\n",
        "y_pred = ktr.predict(test)"
      ],
      "execution_count": 40,
      "outputs": []
    },
    {
      "cell_type": "code",
      "metadata": {
        "colab": {
          "base_uri": "https://localhost:8080/",
          "height": 419
        },
        "id": "vKQMNtQeQISv",
        "outputId": "ace36067-9e1b-49cd-9c36-5487d4bbe8b4"
      },
      "source": [
        "y_pred"
      ],
      "execution_count": 41,
      "outputs": [
        {
          "output_type": "execute_result",
          "data": {
            "text/plain": [
              "     year, month, day     prediction\n",
              "0          2018-06-12  101011.122527\n",
              "1          2018-06-13  101011.093224\n",
              "2          2018-06-14  101011.065614\n",
              "3          2018-06-15  101011.039725\n",
              "4          2018-06-16  101011.015585\n",
              "...               ...            ...\n",
              "1040       2021-04-17  101013.981040\n",
              "1041       2021-04-18  101013.934122\n",
              "1042       2021-04-19  101013.886087\n",
              "1043       2021-04-20  101013.836977\n",
              "1044       2021-04-21  101013.786836\n",
              "\n",
              "[1045 rows x 2 columns]"
            ],
            "text/html": [
              "\n",
              "  <div id=\"df-3c36dc87-81ec-4483-a40e-39469e9e65e2\">\n",
              "    <div class=\"colab-df-container\">\n",
              "      <div>\n",
              "<style scoped>\n",
              "    .dataframe tbody tr th:only-of-type {\n",
              "        vertical-align: middle;\n",
              "    }\n",
              "\n",
              "    .dataframe tbody tr th {\n",
              "        vertical-align: top;\n",
              "    }\n",
              "\n",
              "    .dataframe thead th {\n",
              "        text-align: right;\n",
              "    }\n",
              "</style>\n",
              "<table border=\"1\" class=\"dataframe\">\n",
              "  <thead>\n",
              "    <tr style=\"text-align: right;\">\n",
              "      <th></th>\n",
              "      <th>year, month, day</th>\n",
              "      <th>prediction</th>\n",
              "    </tr>\n",
              "  </thead>\n",
              "  <tbody>\n",
              "    <tr>\n",
              "      <th>0</th>\n",
              "      <td>2018-06-12</td>\n",
              "      <td>101011.122527</td>\n",
              "    </tr>\n",
              "    <tr>\n",
              "      <th>1</th>\n",
              "      <td>2018-06-13</td>\n",
              "      <td>101011.093224</td>\n",
              "    </tr>\n",
              "    <tr>\n",
              "      <th>2</th>\n",
              "      <td>2018-06-14</td>\n",
              "      <td>101011.065614</td>\n",
              "    </tr>\n",
              "    <tr>\n",
              "      <th>3</th>\n",
              "      <td>2018-06-15</td>\n",
              "      <td>101011.039725</td>\n",
              "    </tr>\n",
              "    <tr>\n",
              "      <th>4</th>\n",
              "      <td>2018-06-16</td>\n",
              "      <td>101011.015585</td>\n",
              "    </tr>\n",
              "    <tr>\n",
              "      <th>...</th>\n",
              "      <td>...</td>\n",
              "      <td>...</td>\n",
              "    </tr>\n",
              "    <tr>\n",
              "      <th>1040</th>\n",
              "      <td>2021-04-17</td>\n",
              "      <td>101013.981040</td>\n",
              "    </tr>\n",
              "    <tr>\n",
              "      <th>1041</th>\n",
              "      <td>2021-04-18</td>\n",
              "      <td>101013.934122</td>\n",
              "    </tr>\n",
              "    <tr>\n",
              "      <th>1042</th>\n",
              "      <td>2021-04-19</td>\n",
              "      <td>101013.886087</td>\n",
              "    </tr>\n",
              "    <tr>\n",
              "      <th>1043</th>\n",
              "      <td>2021-04-20</td>\n",
              "      <td>101013.836977</td>\n",
              "    </tr>\n",
              "    <tr>\n",
              "      <th>1044</th>\n",
              "      <td>2021-04-21</td>\n",
              "      <td>101013.786836</td>\n",
              "    </tr>\n",
              "  </tbody>\n",
              "</table>\n",
              "<p>1045 rows × 2 columns</p>\n",
              "</div>\n",
              "      <button class=\"colab-df-convert\" onclick=\"convertToInteractive('df-3c36dc87-81ec-4483-a40e-39469e9e65e2')\"\n",
              "              title=\"Convert this dataframe to an interactive table.\"\n",
              "              style=\"display:none;\">\n",
              "        \n",
              "  <svg xmlns=\"http://www.w3.org/2000/svg\" height=\"24px\"viewBox=\"0 0 24 24\"\n",
              "       width=\"24px\">\n",
              "    <path d=\"M0 0h24v24H0V0z\" fill=\"none\"/>\n",
              "    <path d=\"M18.56 5.44l.94 2.06.94-2.06 2.06-.94-2.06-.94-.94-2.06-.94 2.06-2.06.94zm-11 1L8.5 8.5l.94-2.06 2.06-.94-2.06-.94L8.5 2.5l-.94 2.06-2.06.94zm10 10l.94 2.06.94-2.06 2.06-.94-2.06-.94-.94-2.06-.94 2.06-2.06.94z\"/><path d=\"M17.41 7.96l-1.37-1.37c-.4-.4-.92-.59-1.43-.59-.52 0-1.04.2-1.43.59L10.3 9.45l-7.72 7.72c-.78.78-.78 2.05 0 2.83L4 21.41c.39.39.9.59 1.41.59.51 0 1.02-.2 1.41-.59l7.78-7.78 2.81-2.81c.8-.78.8-2.07 0-2.86zM5.41 20L4 18.59l7.72-7.72 1.47 1.35L5.41 20z\"/>\n",
              "  </svg>\n",
              "      </button>\n",
              "      \n",
              "  <style>\n",
              "    .colab-df-container {\n",
              "      display:flex;\n",
              "      flex-wrap:wrap;\n",
              "      gap: 12px;\n",
              "    }\n",
              "\n",
              "    .colab-df-convert {\n",
              "      background-color: #E8F0FE;\n",
              "      border: none;\n",
              "      border-radius: 50%;\n",
              "      cursor: pointer;\n",
              "      display: none;\n",
              "      fill: #1967D2;\n",
              "      height: 32px;\n",
              "      padding: 0 0 0 0;\n",
              "      width: 32px;\n",
              "    }\n",
              "\n",
              "    .colab-df-convert:hover {\n",
              "      background-color: #E2EBFA;\n",
              "      box-shadow: 0px 1px 2px rgba(60, 64, 67, 0.3), 0px 1px 3px 1px rgba(60, 64, 67, 0.15);\n",
              "      fill: #174EA6;\n",
              "    }\n",
              "\n",
              "    [theme=dark] .colab-df-convert {\n",
              "      background-color: #3B4455;\n",
              "      fill: #D2E3FC;\n",
              "    }\n",
              "\n",
              "    [theme=dark] .colab-df-convert:hover {\n",
              "      background-color: #434B5C;\n",
              "      box-shadow: 0px 1px 3px 1px rgba(0, 0, 0, 0.15);\n",
              "      filter: drop-shadow(0px 1px 2px rgba(0, 0, 0, 0.3));\n",
              "      fill: #FFFFFF;\n",
              "    }\n",
              "  </style>\n",
              "\n",
              "      <script>\n",
              "        const buttonEl =\n",
              "          document.querySelector('#df-3c36dc87-81ec-4483-a40e-39469e9e65e2 button.colab-df-convert');\n",
              "        buttonEl.style.display =\n",
              "          google.colab.kernel.accessAllowed ? 'block' : 'none';\n",
              "\n",
              "        async function convertToInteractive(key) {\n",
              "          const element = document.querySelector('#df-3c36dc87-81ec-4483-a40e-39469e9e65e2');\n",
              "          const dataTable =\n",
              "            await google.colab.kernel.invokeFunction('convertToInteractive',\n",
              "                                                     [key], {});\n",
              "          if (!dataTable) return;\n",
              "\n",
              "          const docLinkHtml = 'Like what you see? Visit the ' +\n",
              "            '<a target=\"_blank\" href=https://colab.research.google.com/notebooks/data_table.ipynb>data table notebook</a>'\n",
              "            + ' to learn more about interactive tables.';\n",
              "          element.innerHTML = '';\n",
              "          dataTable['output_type'] = 'display_data';\n",
              "          await google.colab.output.renderOutput(dataTable, element);\n",
              "          const docLink = document.createElement('div');\n",
              "          docLink.innerHTML = docLinkHtml;\n",
              "          element.appendChild(docLink);\n",
              "        }\n",
              "      </script>\n",
              "    </div>\n",
              "  </div>\n",
              "  "
            ]
          },
          "metadata": {},
          "execution_count": 41
        }
      ]
    },
    {
      "cell_type": "code",
      "metadata": {
        "colab": {
          "base_uri": "https://localhost:8080/"
        },
        "id": "W7eM2FK0QKFf",
        "outputId": "477bbdd3-fca3-4c95-94c6-ff0b0d44f670"
      },
      "source": [
        "mean_squared_error(y_test_day, y_pred['prediction'])"
      ],
      "execution_count": 44,
      "outputs": [
        {
          "output_type": "execute_result",
          "data": {
            "text/plain": [
              "32118611.921981324"
            ]
          },
          "metadata": {},
          "execution_count": 44
        }
      ]
    },
    {
      "cell_type": "markdown",
      "metadata": {
        "id": "tB4yA3O5pkOG"
      },
      "source": [
        "### Phophet (1 балл).\n",
        "\n"
      ]
    },
    {
      "cell_type": "code",
      "metadata": {
        "id": "vXN-TgC5ps4p",
        "colab": {
          "base_uri": "https://localhost:8080/"
        },
        "outputId": "d3d833c3-f6c8-44e3-ba4b-4bbdaa89dc36"
      },
      "source": [
        "from prophet import Prophet\n",
        "\n",
        "# ваш код обучения моделей здесь\n",
        "train = pd.DataFrame(X_train_day)\n",
        "train['Nuclear Capacity'] = y_train_day\n",
        "train = train.rename(columns={\"year, month, day\": \"ds\", \"Nuclear Capacity\": \"y\"})\n",
        "prophet = Prophet()\n",
        "prophet.fit(train)"
      ],
      "execution_count": 45,
      "outputs": [
        {
          "output_type": "stream",
          "name": "stderr",
          "text": [
            "INFO:prophet:Disabling daily seasonality. Run prophet with daily_seasonality=True to override this.\n",
            "DEBUG:cmdstanpy:input tempfile: /tmp/tmplmgew0_1/r5yf6pzp.json\n",
            "DEBUG:cmdstanpy:input tempfile: /tmp/tmplmgew0_1/ta935h48.json\n",
            "DEBUG:cmdstanpy:idx 0\n",
            "DEBUG:cmdstanpy:running CmdStan, num_threads: None\n",
            "DEBUG:cmdstanpy:CmdStan args: ['/usr/local/lib/python3.8/dist-packages/prophet/stan_model/prophet_model.bin', 'random', 'seed=8340', 'data', 'file=/tmp/tmplmgew0_1/r5yf6pzp.json', 'init=/tmp/tmplmgew0_1/ta935h48.json', 'output', 'file=/tmp/tmplmgew0_1/prophet_modeljtnnt4z1/prophet_model-20230113153025.csv', 'method=optimize', 'algorithm=lbfgs', 'iter=10000']\n",
            "15:30:25 - cmdstanpy - INFO - Chain [1] start processing\n",
            "INFO:cmdstanpy:Chain [1] start processing\n",
            "15:30:30 - cmdstanpy - INFO - Chain [1] done processing\n",
            "INFO:cmdstanpy:Chain [1] done processing\n"
          ]
        },
        {
          "output_type": "execute_result",
          "data": {
            "text/plain": [
              "<prophet.forecaster.Prophet at 0x7f5a7b75aeb0>"
            ]
          },
          "metadata": {},
          "execution_count": 45
        }
      ]
    },
    {
      "cell_type": "code",
      "metadata": {
        "id": "_72XL9Q1pvLB"
      },
      "source": [
        "# посчитайте метрики на test\n",
        "test = pd.DataFrame(X_test_day)\n",
        "test['Nuclear Capacity'] = y_test_day\n",
        "test = test.rename(columns={\"year, month, day\": \"ds\", \"Nuclear Capacity\": \"y\"})\n",
        "y_pred = prophet.predict(test)"
      ],
      "execution_count": 46,
      "outputs": []
    },
    {
      "cell_type": "code",
      "metadata": {
        "colab": {
          "base_uri": "https://localhost:8080/",
          "height": 653
        },
        "id": "MUnLg4aH66BH",
        "outputId": "fbc170b1-2af6-4e01-cf8e-8a47c398cd77"
      },
      "source": [
        "y_pred"
      ],
      "execution_count": 47,
      "outputs": [
        {
          "output_type": "execute_result",
          "data": {
            "text/plain": [
              "             ds          trend    yhat_lower     yhat_upper    trend_lower  \\\n",
              "0    2018-06-12  100722.688515  99343.787380  100394.450782  100722.688515   \n",
              "1    2018-06-13  100722.843499  99325.862801  100342.949579  100722.843499   \n",
              "2    2018-06-14  100722.998482  99382.637561  100344.548397  100722.998482   \n",
              "3    2018-06-15  100723.153466  99369.561288  100362.088964  100723.153466   \n",
              "4    2018-06-16  100723.308450  99236.060718  100230.630559  100723.308450   \n",
              "...         ...            ...           ...            ...            ...   \n",
              "1040 2021-04-17  100883.871409  80980.969156  118524.287898   82032.640634   \n",
              "1041 2021-04-18  100884.026392  80810.175826  118054.468139   82002.394989   \n",
              "1042 2021-04-19  100884.181376  80674.386433  118583.372511   81972.149345   \n",
              "1043 2021-04-20  100884.336359  80899.971658  118312.042590   81941.903700   \n",
              "1044 2021-04-21  100884.491343  80875.703327  118591.433399   81917.169360   \n",
              "\n",
              "        trend_upper  additive_terms  additive_terms_lower  \\\n",
              "0     100722.688515     -855.273141           -855.273141   \n",
              "1     100722.843499     -854.088720           -854.088720   \n",
              "2     100722.998482     -853.576302           -853.576302   \n",
              "3     100723.153466     -869.485052           -869.485052   \n",
              "4     100723.308450     -959.296376           -959.296376   \n",
              "...             ...             ...                   ...   \n",
              "1040  119501.235019    -1228.842560          -1228.842560   \n",
              "1041  119526.965629    -1241.336873          -1241.336873   \n",
              "1042  119552.696240    -1155.305298          -1155.305298   \n",
              "1043  119578.426850    -1140.421723          -1140.421723   \n",
              "1044  119604.157461    -1127.502799          -1127.502799   \n",
              "\n",
              "      additive_terms_upper     weekly  weekly_lower  weekly_upper  \\\n",
              "0              -855.273141  28.162185     28.162185     28.162185   \n",
              "1              -854.088720  29.483124     29.483124     29.483124   \n",
              "2              -853.576302  32.297889     32.297889     32.297889   \n",
              "3              -869.485052  20.822726     20.822726     20.822726   \n",
              "4              -959.296376 -62.516324    -62.516324    -62.516324   \n",
              "...                    ...        ...           ...           ...   \n",
              "1040          -1228.842560 -62.516324    -62.516324    -62.516324   \n",
              "1041          -1241.336873 -67.411541    -67.411541    -67.411541   \n",
              "1042          -1155.305298  19.161941     19.161941     19.161941   \n",
              "1043          -1140.421723  28.162185     28.162185     28.162185   \n",
              "1044          -1127.502799  29.483124     29.483124     29.483124   \n",
              "\n",
              "           yearly  yearly_lower  yearly_upper  multiplicative_terms  \\\n",
              "0     -883.435326   -883.435326   -883.435326                   0.0   \n",
              "1     -883.571844   -883.571844   -883.571844                   0.0   \n",
              "2     -885.874191   -885.874191   -885.874191                   0.0   \n",
              "3     -890.307779   -890.307779   -890.307779                   0.0   \n",
              "4     -896.780052   -896.780052   -896.780052                   0.0   \n",
              "...           ...           ...           ...                   ...   \n",
              "1040 -1166.326236  -1166.326236  -1166.326236                   0.0   \n",
              "1041 -1173.925332  -1173.925332  -1173.925332                   0.0   \n",
              "1042 -1174.467239  -1174.467239  -1174.467239                   0.0   \n",
              "1043 -1168.583908  -1168.583908  -1168.583908                   0.0   \n",
              "1044 -1156.985923  -1156.985923  -1156.985923                   0.0   \n",
              "\n",
              "      multiplicative_terms_lower  multiplicative_terms_upper          yhat  \n",
              "0                            0.0                         0.0  99867.415374  \n",
              "1                            0.0                         0.0  99868.754779  \n",
              "2                            0.0                         0.0  99869.422180  \n",
              "3                            0.0                         0.0  99853.668413  \n",
              "4                            0.0                         0.0  99764.012074  \n",
              "...                          ...                         ...           ...  \n",
              "1040                         0.0                         0.0  99655.028849  \n",
              "1041                         0.0                         0.0  99642.689519  \n",
              "1042                         0.0                         0.0  99728.876078  \n",
              "1043                         0.0                         0.0  99743.914636  \n",
              "1044                         0.0                         0.0  99756.988544  \n",
              "\n",
              "[1045 rows x 19 columns]"
            ],
            "text/html": [
              "\n",
              "  <div id=\"df-3cbb03d6-458a-4cb6-bacf-4e78a6300a4a\">\n",
              "    <div class=\"colab-df-container\">\n",
              "      <div>\n",
              "<style scoped>\n",
              "    .dataframe tbody tr th:only-of-type {\n",
              "        vertical-align: middle;\n",
              "    }\n",
              "\n",
              "    .dataframe tbody tr th {\n",
              "        vertical-align: top;\n",
              "    }\n",
              "\n",
              "    .dataframe thead th {\n",
              "        text-align: right;\n",
              "    }\n",
              "</style>\n",
              "<table border=\"1\" class=\"dataframe\">\n",
              "  <thead>\n",
              "    <tr style=\"text-align: right;\">\n",
              "      <th></th>\n",
              "      <th>ds</th>\n",
              "      <th>trend</th>\n",
              "      <th>yhat_lower</th>\n",
              "      <th>yhat_upper</th>\n",
              "      <th>trend_lower</th>\n",
              "      <th>trend_upper</th>\n",
              "      <th>additive_terms</th>\n",
              "      <th>additive_terms_lower</th>\n",
              "      <th>additive_terms_upper</th>\n",
              "      <th>weekly</th>\n",
              "      <th>weekly_lower</th>\n",
              "      <th>weekly_upper</th>\n",
              "      <th>yearly</th>\n",
              "      <th>yearly_lower</th>\n",
              "      <th>yearly_upper</th>\n",
              "      <th>multiplicative_terms</th>\n",
              "      <th>multiplicative_terms_lower</th>\n",
              "      <th>multiplicative_terms_upper</th>\n",
              "      <th>yhat</th>\n",
              "    </tr>\n",
              "  </thead>\n",
              "  <tbody>\n",
              "    <tr>\n",
              "      <th>0</th>\n",
              "      <td>2018-06-12</td>\n",
              "      <td>100722.688515</td>\n",
              "      <td>99343.787380</td>\n",
              "      <td>100394.450782</td>\n",
              "      <td>100722.688515</td>\n",
              "      <td>100722.688515</td>\n",
              "      <td>-855.273141</td>\n",
              "      <td>-855.273141</td>\n",
              "      <td>-855.273141</td>\n",
              "      <td>28.162185</td>\n",
              "      <td>28.162185</td>\n",
              "      <td>28.162185</td>\n",
              "      <td>-883.435326</td>\n",
              "      <td>-883.435326</td>\n",
              "      <td>-883.435326</td>\n",
              "      <td>0.0</td>\n",
              "      <td>0.0</td>\n",
              "      <td>0.0</td>\n",
              "      <td>99867.415374</td>\n",
              "    </tr>\n",
              "    <tr>\n",
              "      <th>1</th>\n",
              "      <td>2018-06-13</td>\n",
              "      <td>100722.843499</td>\n",
              "      <td>99325.862801</td>\n",
              "      <td>100342.949579</td>\n",
              "      <td>100722.843499</td>\n",
              "      <td>100722.843499</td>\n",
              "      <td>-854.088720</td>\n",
              "      <td>-854.088720</td>\n",
              "      <td>-854.088720</td>\n",
              "      <td>29.483124</td>\n",
              "      <td>29.483124</td>\n",
              "      <td>29.483124</td>\n",
              "      <td>-883.571844</td>\n",
              "      <td>-883.571844</td>\n",
              "      <td>-883.571844</td>\n",
              "      <td>0.0</td>\n",
              "      <td>0.0</td>\n",
              "      <td>0.0</td>\n",
              "      <td>99868.754779</td>\n",
              "    </tr>\n",
              "    <tr>\n",
              "      <th>2</th>\n",
              "      <td>2018-06-14</td>\n",
              "      <td>100722.998482</td>\n",
              "      <td>99382.637561</td>\n",
              "      <td>100344.548397</td>\n",
              "      <td>100722.998482</td>\n",
              "      <td>100722.998482</td>\n",
              "      <td>-853.576302</td>\n",
              "      <td>-853.576302</td>\n",
              "      <td>-853.576302</td>\n",
              "      <td>32.297889</td>\n",
              "      <td>32.297889</td>\n",
              "      <td>32.297889</td>\n",
              "      <td>-885.874191</td>\n",
              "      <td>-885.874191</td>\n",
              "      <td>-885.874191</td>\n",
              "      <td>0.0</td>\n",
              "      <td>0.0</td>\n",
              "      <td>0.0</td>\n",
              "      <td>99869.422180</td>\n",
              "    </tr>\n",
              "    <tr>\n",
              "      <th>3</th>\n",
              "      <td>2018-06-15</td>\n",
              "      <td>100723.153466</td>\n",
              "      <td>99369.561288</td>\n",
              "      <td>100362.088964</td>\n",
              "      <td>100723.153466</td>\n",
              "      <td>100723.153466</td>\n",
              "      <td>-869.485052</td>\n",
              "      <td>-869.485052</td>\n",
              "      <td>-869.485052</td>\n",
              "      <td>20.822726</td>\n",
              "      <td>20.822726</td>\n",
              "      <td>20.822726</td>\n",
              "      <td>-890.307779</td>\n",
              "      <td>-890.307779</td>\n",
              "      <td>-890.307779</td>\n",
              "      <td>0.0</td>\n",
              "      <td>0.0</td>\n",
              "      <td>0.0</td>\n",
              "      <td>99853.668413</td>\n",
              "    </tr>\n",
              "    <tr>\n",
              "      <th>4</th>\n",
              "      <td>2018-06-16</td>\n",
              "      <td>100723.308450</td>\n",
              "      <td>99236.060718</td>\n",
              "      <td>100230.630559</td>\n",
              "      <td>100723.308450</td>\n",
              "      <td>100723.308450</td>\n",
              "      <td>-959.296376</td>\n",
              "      <td>-959.296376</td>\n",
              "      <td>-959.296376</td>\n",
              "      <td>-62.516324</td>\n",
              "      <td>-62.516324</td>\n",
              "      <td>-62.516324</td>\n",
              "      <td>-896.780052</td>\n",
              "      <td>-896.780052</td>\n",
              "      <td>-896.780052</td>\n",
              "      <td>0.0</td>\n",
              "      <td>0.0</td>\n",
              "      <td>0.0</td>\n",
              "      <td>99764.012074</td>\n",
              "    </tr>\n",
              "    <tr>\n",
              "      <th>...</th>\n",
              "      <td>...</td>\n",
              "      <td>...</td>\n",
              "      <td>...</td>\n",
              "      <td>...</td>\n",
              "      <td>...</td>\n",
              "      <td>...</td>\n",
              "      <td>...</td>\n",
              "      <td>...</td>\n",
              "      <td>...</td>\n",
              "      <td>...</td>\n",
              "      <td>...</td>\n",
              "      <td>...</td>\n",
              "      <td>...</td>\n",
              "      <td>...</td>\n",
              "      <td>...</td>\n",
              "      <td>...</td>\n",
              "      <td>...</td>\n",
              "      <td>...</td>\n",
              "      <td>...</td>\n",
              "    </tr>\n",
              "    <tr>\n",
              "      <th>1040</th>\n",
              "      <td>2021-04-17</td>\n",
              "      <td>100883.871409</td>\n",
              "      <td>80980.969156</td>\n",
              "      <td>118524.287898</td>\n",
              "      <td>82032.640634</td>\n",
              "      <td>119501.235019</td>\n",
              "      <td>-1228.842560</td>\n",
              "      <td>-1228.842560</td>\n",
              "      <td>-1228.842560</td>\n",
              "      <td>-62.516324</td>\n",
              "      <td>-62.516324</td>\n",
              "      <td>-62.516324</td>\n",
              "      <td>-1166.326236</td>\n",
              "      <td>-1166.326236</td>\n",
              "      <td>-1166.326236</td>\n",
              "      <td>0.0</td>\n",
              "      <td>0.0</td>\n",
              "      <td>0.0</td>\n",
              "      <td>99655.028849</td>\n",
              "    </tr>\n",
              "    <tr>\n",
              "      <th>1041</th>\n",
              "      <td>2021-04-18</td>\n",
              "      <td>100884.026392</td>\n",
              "      <td>80810.175826</td>\n",
              "      <td>118054.468139</td>\n",
              "      <td>82002.394989</td>\n",
              "      <td>119526.965629</td>\n",
              "      <td>-1241.336873</td>\n",
              "      <td>-1241.336873</td>\n",
              "      <td>-1241.336873</td>\n",
              "      <td>-67.411541</td>\n",
              "      <td>-67.411541</td>\n",
              "      <td>-67.411541</td>\n",
              "      <td>-1173.925332</td>\n",
              "      <td>-1173.925332</td>\n",
              "      <td>-1173.925332</td>\n",
              "      <td>0.0</td>\n",
              "      <td>0.0</td>\n",
              "      <td>0.0</td>\n",
              "      <td>99642.689519</td>\n",
              "    </tr>\n",
              "    <tr>\n",
              "      <th>1042</th>\n",
              "      <td>2021-04-19</td>\n",
              "      <td>100884.181376</td>\n",
              "      <td>80674.386433</td>\n",
              "      <td>118583.372511</td>\n",
              "      <td>81972.149345</td>\n",
              "      <td>119552.696240</td>\n",
              "      <td>-1155.305298</td>\n",
              "      <td>-1155.305298</td>\n",
              "      <td>-1155.305298</td>\n",
              "      <td>19.161941</td>\n",
              "      <td>19.161941</td>\n",
              "      <td>19.161941</td>\n",
              "      <td>-1174.467239</td>\n",
              "      <td>-1174.467239</td>\n",
              "      <td>-1174.467239</td>\n",
              "      <td>0.0</td>\n",
              "      <td>0.0</td>\n",
              "      <td>0.0</td>\n",
              "      <td>99728.876078</td>\n",
              "    </tr>\n",
              "    <tr>\n",
              "      <th>1043</th>\n",
              "      <td>2021-04-20</td>\n",
              "      <td>100884.336359</td>\n",
              "      <td>80899.971658</td>\n",
              "      <td>118312.042590</td>\n",
              "      <td>81941.903700</td>\n",
              "      <td>119578.426850</td>\n",
              "      <td>-1140.421723</td>\n",
              "      <td>-1140.421723</td>\n",
              "      <td>-1140.421723</td>\n",
              "      <td>28.162185</td>\n",
              "      <td>28.162185</td>\n",
              "      <td>28.162185</td>\n",
              "      <td>-1168.583908</td>\n",
              "      <td>-1168.583908</td>\n",
              "      <td>-1168.583908</td>\n",
              "      <td>0.0</td>\n",
              "      <td>0.0</td>\n",
              "      <td>0.0</td>\n",
              "      <td>99743.914636</td>\n",
              "    </tr>\n",
              "    <tr>\n",
              "      <th>1044</th>\n",
              "      <td>2021-04-21</td>\n",
              "      <td>100884.491343</td>\n",
              "      <td>80875.703327</td>\n",
              "      <td>118591.433399</td>\n",
              "      <td>81917.169360</td>\n",
              "      <td>119604.157461</td>\n",
              "      <td>-1127.502799</td>\n",
              "      <td>-1127.502799</td>\n",
              "      <td>-1127.502799</td>\n",
              "      <td>29.483124</td>\n",
              "      <td>29.483124</td>\n",
              "      <td>29.483124</td>\n",
              "      <td>-1156.985923</td>\n",
              "      <td>-1156.985923</td>\n",
              "      <td>-1156.985923</td>\n",
              "      <td>0.0</td>\n",
              "      <td>0.0</td>\n",
              "      <td>0.0</td>\n",
              "      <td>99756.988544</td>\n",
              "    </tr>\n",
              "  </tbody>\n",
              "</table>\n",
              "<p>1045 rows × 19 columns</p>\n",
              "</div>\n",
              "      <button class=\"colab-df-convert\" onclick=\"convertToInteractive('df-3cbb03d6-458a-4cb6-bacf-4e78a6300a4a')\"\n",
              "              title=\"Convert this dataframe to an interactive table.\"\n",
              "              style=\"display:none;\">\n",
              "        \n",
              "  <svg xmlns=\"http://www.w3.org/2000/svg\" height=\"24px\"viewBox=\"0 0 24 24\"\n",
              "       width=\"24px\">\n",
              "    <path d=\"M0 0h24v24H0V0z\" fill=\"none\"/>\n",
              "    <path d=\"M18.56 5.44l.94 2.06.94-2.06 2.06-.94-2.06-.94-.94-2.06-.94 2.06-2.06.94zm-11 1L8.5 8.5l.94-2.06 2.06-.94-2.06-.94L8.5 2.5l-.94 2.06-2.06.94zm10 10l.94 2.06.94-2.06 2.06-.94-2.06-.94-.94-2.06-.94 2.06-2.06.94z\"/><path d=\"M17.41 7.96l-1.37-1.37c-.4-.4-.92-.59-1.43-.59-.52 0-1.04.2-1.43.59L10.3 9.45l-7.72 7.72c-.78.78-.78 2.05 0 2.83L4 21.41c.39.39.9.59 1.41.59.51 0 1.02-.2 1.41-.59l7.78-7.78 2.81-2.81c.8-.78.8-2.07 0-2.86zM5.41 20L4 18.59l7.72-7.72 1.47 1.35L5.41 20z\"/>\n",
              "  </svg>\n",
              "      </button>\n",
              "      \n",
              "  <style>\n",
              "    .colab-df-container {\n",
              "      display:flex;\n",
              "      flex-wrap:wrap;\n",
              "      gap: 12px;\n",
              "    }\n",
              "\n",
              "    .colab-df-convert {\n",
              "      background-color: #E8F0FE;\n",
              "      border: none;\n",
              "      border-radius: 50%;\n",
              "      cursor: pointer;\n",
              "      display: none;\n",
              "      fill: #1967D2;\n",
              "      height: 32px;\n",
              "      padding: 0 0 0 0;\n",
              "      width: 32px;\n",
              "    }\n",
              "\n",
              "    .colab-df-convert:hover {\n",
              "      background-color: #E2EBFA;\n",
              "      box-shadow: 0px 1px 2px rgba(60, 64, 67, 0.3), 0px 1px 3px 1px rgba(60, 64, 67, 0.15);\n",
              "      fill: #174EA6;\n",
              "    }\n",
              "\n",
              "    [theme=dark] .colab-df-convert {\n",
              "      background-color: #3B4455;\n",
              "      fill: #D2E3FC;\n",
              "    }\n",
              "\n",
              "    [theme=dark] .colab-df-convert:hover {\n",
              "      background-color: #434B5C;\n",
              "      box-shadow: 0px 1px 3px 1px rgba(0, 0, 0, 0.15);\n",
              "      filter: drop-shadow(0px 1px 2px rgba(0, 0, 0, 0.3));\n",
              "      fill: #FFFFFF;\n",
              "    }\n",
              "  </style>\n",
              "\n",
              "      <script>\n",
              "        const buttonEl =\n",
              "          document.querySelector('#df-3cbb03d6-458a-4cb6-bacf-4e78a6300a4a button.colab-df-convert');\n",
              "        buttonEl.style.display =\n",
              "          google.colab.kernel.accessAllowed ? 'block' : 'none';\n",
              "\n",
              "        async function convertToInteractive(key) {\n",
              "          const element = document.querySelector('#df-3cbb03d6-458a-4cb6-bacf-4e78a6300a4a');\n",
              "          const dataTable =\n",
              "            await google.colab.kernel.invokeFunction('convertToInteractive',\n",
              "                                                     [key], {});\n",
              "          if (!dataTable) return;\n",
              "\n",
              "          const docLinkHtml = 'Like what you see? Visit the ' +\n",
              "            '<a target=\"_blank\" href=https://colab.research.google.com/notebooks/data_table.ipynb>data table notebook</a>'\n",
              "            + ' to learn more about interactive tables.';\n",
              "          element.innerHTML = '';\n",
              "          dataTable['output_type'] = 'display_data';\n",
              "          await google.colab.output.renderOutput(dataTable, element);\n",
              "          const docLink = document.createElement('div');\n",
              "          docLink.innerHTML = docLinkHtml;\n",
              "          element.appendChild(docLink);\n",
              "        }\n",
              "      </script>\n",
              "    </div>\n",
              "  </div>\n",
              "  "
            ]
          },
          "metadata": {},
          "execution_count": 47
        }
      ]
    },
    {
      "cell_type": "code",
      "metadata": {
        "colab": {
          "base_uri": "https://localhost:8080/"
        },
        "id": "9VBXGj1n68Il",
        "outputId": "24ba3c52-e0b8-4d35-9d91-aeef9e0595cd"
      },
      "source": [
        "mean_squared_error(y_test_day, y_pred['yhat'])"
      ],
      "execution_count": 48,
      "outputs": [
        {
          "output_type": "execute_result",
          "data": {
            "text/plain": [
              "31530541.82995533"
            ]
          },
          "metadata": {},
          "execution_count": 48
        }
      ]
    },
    {
      "cell_type": "markdown",
      "metadata": {
        "id": "h2vnQTxOqR_b"
      },
      "source": [
        "Нарисуйте для наилучшей модели предсказания с доверительным интервалом (если модель выдает его) и наложите их на истинные значения."
      ]
    },
    {
      "cell_type": "code",
      "metadata": {
        "id": "qUR6CFvNqUnA"
      },
      "source": [
        "# нарисуйте пресказания\n",
        "train = pd.DataFrame(X_train_day)\n",
        "train['Nuclear Capacity'] = y_train_day\n",
        "ktr = KTRLite(date_col='year, month, day', response_col='Nuclear Capacity', seasonality=365)\n",
        "ktr.fit(train)\n",
        "test = pd.DataFrame(X_test_day)\n",
        "test['Nuclear Capacity'] = y_test_day\n",
        "y_pred = ktr.predict(test)"
      ],
      "execution_count": 51,
      "outputs": []
    },
    {
      "cell_type": "code",
      "metadata": {
        "colab": {
          "base_uri": "https://localhost:8080/",
          "height": 674
        },
        "id": "lq6V7VWGwz4s",
        "outputId": "5dd7f3fe-2fd2-4689-daa0-26c1305a6bde"
      },
      "source": [
        "from orbit.diagnostics.plot import plot_predicted_data\n",
        "_ = plot_predicted_data(training_actual_df=train, predicted_df=y_pred,\n",
        "                        date_col='year, month, day', actual_col='Nuclear Capacity',\n",
        "                        test_actual_df=test, markersize=20, lw=.5)"
      ],
      "execution_count": 52,
      "outputs": [
        {
          "output_type": "stream",
          "name": "stderr",
          "text": [
            "WARNING:matplotlib.font_manager:findfont: Font family ['sans-serif'] not found. Falling back to DejaVu Sans.\n",
            "WARNING:matplotlib.font_manager:findfont: Font family ['sans-serif'] not found. Falling back to DejaVu Sans.\n"
          ]
        },
        {
          "output_type": "display_data",
          "data": {
            "text/plain": [
              "<Figure size 1600x800 with 1 Axes>"
            ],
            "image/png": "[encoded data removed]"
          },
          "metadata": {}
        }
      ]
    },
    {
      "cell_type": "markdown",
      "metadata": {
        "id": "P2aGXCuexdLe"
      },
      "source": [
        "В целом, модель на KTR максимально верно предсказала будущие значения. На графике прямоугольная область - доверительный интервал, линия посередине - среднее предсказание. И как видно, модель не предсказала снижение тренда."
      ]
    }
  ]
}